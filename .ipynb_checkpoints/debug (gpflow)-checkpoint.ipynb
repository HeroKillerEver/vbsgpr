{
 "cells": [
  {
   "cell_type": "code",
   "execution_count": 142,
   "metadata": {
    "ExecuteTime": {
     "end_time": "2018-11-12T05:23:49.266253Z",
     "start_time": "2018-11-12T05:23:49.078881Z"
    }
   },
   "outputs": [
    {
     "name": "stdout",
     "output_type": "stream",
     "text": [
      "The autoreload extension is already loaded. To reload it, use:\n",
      "  %reload_ext autoreload\n"
     ]
    }
   ],
   "source": [
    "import numpy as np\n",
    "np.set_printoptions(precision=4, suppress=True, linewidth=200)\n",
    "np.random.seed(2018)\n",
    "import pandas as pd\n",
    "import tensorflow as tf\n",
    "import sklearn\n",
    "import matplotlib.pyplot as plt\n",
    "import seaborn as sns\n",
    "%matplotlib inline\n",
    "plt.rcParams['figure.figsize'] = (10.0, 6.0) #set default size of plots\n",
    "plt.rcParams['image.interpolation'] = 'nearest'\n",
    "plt.rcParams['image.cmap'] = 'gray'\n",
    "sns.set(color_codes=True)\n",
    "np.set_printoptions(precision=10, suppress=True, linewidth=200, threshold=1000, edgeitems=25)\n",
    "%load_ext autoreload\n",
    "%autoreload 2\n",
    "\n",
    "import os\n",
    "os.environ[\"CUDA_DEVICE_ORDER\"]=\"PCI_BUS_ID\"\n",
    "# The GPU id to use, usually either \"0\" or \"1\", \"2' \"3\" \"4\"\n",
    "os.environ[\"CUDA_VISIBLE_DEVICES\"]= ''\n",
    "config = tf.ConfigProto()\n",
    "config.gpu_options.allow_growth = True\n",
    "pd.set_option('display.float_format', lambda x: '{:.2f}'.format(x))\n",
    "\n",
    "import warnings\n",
    "warnings.filterwarnings(\"ignore\")"
   ]
  },
  {
   "cell_type": "code",
   "execution_count": 143,
   "metadata": {
    "ExecuteTime": {
     "end_time": "2018-11-12T05:23:50.759292Z",
     "start_time": "2018-11-12T05:23:50.649479Z"
    }
   },
   "outputs": [],
   "source": [
    "from sklearn.metrics import accuracy_score, precision_score, recall_score\n",
    "from sklearn.model_selection import train_test_split\n",
    "from sklearn.metrics import confusion_matrix, precision_recall_curve\n",
    "from sklearn.metrics import roc_auc_score, roc_curve\n",
    "from sklearn.utils import shuffle\n",
    "from sklearn.model_selection import StratifiedShuffleSplit\n",
    "\n",
    "from sklearn.preprocessing import RobustScaler, StandardScaler\n",
    "from sklearn.preprocessing import Normalizer, MinMaxScaler\n",
    "\n",
    "from scipy.cluster.vq import kmeans2 as kmeans"
   ]
  },
  {
   "cell_type": "code",
   "execution_count": 160,
   "metadata": {
    "ExecuteTime": {
     "end_time": "2018-11-12T05:42:25.560447Z",
     "start_time": "2018-11-12T05:42:25.469540Z"
    }
   },
   "outputs": [],
   "source": [
    "import pickle"
   ]
  },
  {
   "cell_type": "code",
   "execution_count": 144,
   "metadata": {
    "ExecuteTime": {
     "end_time": "2018-11-12T05:23:57.743662Z",
     "start_time": "2018-11-12T05:23:57.650998Z"
    }
   },
   "outputs": [],
   "source": [
    "import data_loader"
   ]
  },
  {
   "cell_type": "code",
   "execution_count": 148,
   "metadata": {
    "ExecuteTime": {
     "end_time": "2018-11-12T05:26:58.390914Z",
     "start_time": "2018-11-12T05:26:46.188029Z"
    }
   },
   "outputs": [
    {
     "name": "stdout",
     "output_type": "stream",
     "text": [
      "loading data of 2055732 datapoints...\n",
      "Parition into 10 clusters...\n",
      "Done...!\n",
      "Selecting 10 inducing variables...\n",
      "Done...!\n"
     ]
    }
   ],
   "source": [
    "dtrain, dtest, z, y_std = data_loader.load('airplane.csv', \n",
    "                                           n_clusters=10, \n",
    "                                           n_induce=10)"
   ]
  },
  {
   "cell_type": "code",
   "execution_count": 149,
   "metadata": {
    "ExecuteTime": {
     "end_time": "2018-11-12T05:27:43.383585Z",
     "start_time": "2018-11-12T05:27:43.212059Z"
    }
   },
   "outputs": [
    {
     "data": {
      "text/plain": [
       "array([[-0.0179284717,  0.0019335782,  0.017862637 ,  0.2110224373,  0.1670444271, -0.0526684079,  2.4312289238,  2.4658456743],\n",
       "       [-0.9999493627,  0.5615597869, -0.3055145105,  0.8547245697,  0.8587486505, -0.2506033733, -0.3674875351, -0.3720032212],\n",
       "       [ 0.0705374218, -0.9954600425,  0.5040008111,  0.8869293463,  0.8928602894, -0.2370555461, -0.353768255 , -0.3522754015],\n",
       "       [ 0.9408237903,  0.6457341188, -0.3190887082,  0.9067389244,  0.9326147271, -0.2204848435, -0.2546047288, -0.2525597503],\n",
       "       [-0.7359712287,  0.8199812097, -0.0630753305, -0.6869368361, -0.5658075472, -0.1203727054,  0.6138396752,  0.5950210642],\n",
       "       [-1.0060037805, -0.5949306288, -0.1531476526, -0.7756301883, -0.8292271875, -0.1535441572, -0.5056619261, -0.5087889811],\n",
       "       [ 0.6563558827, -0.8874062092,  0.287212931 , -0.6489287883, -0.5280525907, -0.0697709619,  0.7218450696,  0.7107884736],\n",
       "       [-0.1141023363, -0.0486756423, -0.0506764632,  0.2342179982,  0.2673529397,  2.1323411548, -0.221590179 , -0.2279152114],\n",
       "       [ 0.4844255524,  0.4317654732,  1.0674969544, -0.6437142737, -0.7376025399, -0.1770619899, -0.5321479207, -0.5265078513],\n",
       "       [ 0.8148930706,  0.1305914249, -0.9018416652, -0.7892611487, -0.8399649053, -0.1795964815, -0.4941821051, -0.4954452691]])"
      ]
     },
     "execution_count": 149,
     "metadata": {},
     "output_type": "execute_result"
    }
   ],
   "source": [
    "z"
   ]
  },
  {
   "cell_type": "code",
   "execution_count": 150,
   "metadata": {
    "ExecuteTime": {
     "end_time": "2018-11-12T05:27:53.609884Z",
     "start_time": "2018-11-12T05:27:53.514372Z"
    }
   },
   "outputs": [],
   "source": [
    "X_train, y_train = dtrain[:, :-2], dtrain[:, -2:-1]\n",
    "X_test, y_test = dtest[:, :-2], dtest[:, -2:-1]"
   ]
  },
  {
   "cell_type": "markdown",
   "metadata": {},
   "source": [
    "## VBSGPR"
   ]
  },
  {
   "cell_type": "code",
   "execution_count": 201,
   "metadata": {
    "ExecuteTime": {
     "end_time": "2018-11-12T06:40:11.630463Z",
     "start_time": "2018-11-12T06:40:11.507885Z"
    },
    "scrolled": true
   },
   "outputs": [],
   "source": [
    "tf.reset_default_graph()\n",
    "sess = tf.InteractiveSession()"
   ]
  },
  {
   "cell_type": "code",
   "execution_count": 202,
   "metadata": {
    "ExecuteTime": {
     "end_time": "2018-11-12T06:40:13.271495Z",
     "start_time": "2018-11-12T06:40:13.145983Z"
    }
   },
   "outputs": [],
   "source": [
    "with open('svgp.pkl', 'rb') as f:\n",
    "    dic = pickle.load(f)"
   ]
  },
  {
   "cell_type": "code",
   "execution_count": 203,
   "metadata": {
    "ExecuteTime": {
     "end_time": "2018-11-12T06:40:14.027506Z",
     "start_time": "2018-11-12T06:40:13.930507Z"
    }
   },
   "outputs": [
    {
     "data": {
      "text/plain": [
       "{'log_beta_opt': 0.05283487675153983,\n",
       " 'log_sf2_opt': -0.9026610529589388,\n",
       " 'log_theta_opt': 1.5702922625591405,\n",
       " 'qlogdev_opt': array([-2.8146692356, -1.7891352052, -1.631691354 , -2.3127908599, -1.8561066645, -2.2045278464, -1.751555487 , -2.0611038322, -2.1982857975, -2.4163003732]),\n",
       " 'qmu_opt': array([[-0.0910450187],\n",
       "        [-0.1191195626],\n",
       "        [ 1.4645149967],\n",
       "        [-0.3669435023],\n",
       "        [-0.1784803467],\n",
       "        [ 0.3506447794],\n",
       "        [ 0.9002789881],\n",
       "        [-0.6619651448],\n",
       "        [-0.1972287327],\n",
       "        [ 0.1007107252]]),\n",
       " 'z_opt': array([[-0.09071386  ,  0.1953325468,  0.2723226147,  0.1228081396,  0.2659541281, -0.275293918 ,  1.9975984283,  1.9269914473],\n",
       "        [ 1.2891194818,  1.2243815937, -2.1504329103,  1.3244725052,  1.1339880555, -0.4419573607, -0.2630677877, -0.3214224694],\n",
       "        [ 0.7076299156,  0.3702539443,  1.4110779012,  1.0636646094, -1.9532720641, -0.4074499417, -0.1620970209, -1.0290758421],\n",
       "        [ 1.6931527067, -1.0734181628, -0.5794956376, -1.2726566477, -0.8258124433, -0.0870924354, -0.0681495249,  0.1415893089],\n",
       "        [-2.011767957 , -0.9224991586,  1.1736980638, -1.084470353 , -0.6882346929,  0.4490400459, -0.4477507831, -0.6958315916],\n",
       "        [-0.7314860214, -1.5573649622, -0.6266649104,  1.3198113067,  1.0258763415, -0.6864412133, -0.3814816469, -0.5189984191],\n",
       "        [ 0.8850137828,  0.9516704151,  1.0686101719, -0.4344065135,  1.9674449939, -0.5352185509, -0.7169406655, -0.4137222763],\n",
       "        [ 0.8656479826,  0.6843624214,  1.1241964437,  0.2255060023,  0.1339141561, -0.4573307785, -0.9004827388, -0.2995980972],\n",
       "        [-0.9781118752,  1.4125251374, -1.0641812077, -1.1717352908, -0.9811879517, -0.5022410024, -0.4354054552, -0.3888567093],\n",
       "        [ 0.1049480132,  0.2575076076, -0.0081586141,  0.3978827312,  0.3231022439,  2.594912885 , -0.1201565142, -0.1706122925]])}"
      ]
     },
     "execution_count": 203,
     "metadata": {},
     "output_type": "execute_result"
    }
   ],
   "source": [
    "dic "
   ]
  },
  {
   "cell_type": "code",
   "execution_count": 204,
   "metadata": {
    "ExecuteTime": {
     "end_time": "2018-11-12T06:40:15.777023Z",
     "start_time": "2018-11-12T06:40:15.662111Z"
    }
   },
   "outputs": [],
   "source": [
    "import tensorflow as tf\n",
    "import numpy as np\n",
    "import random\n",
    "from model import VBSGPR\n",
    "\n",
    "epochs = 10\n",
    "N, total_dim = dtest.shape\n",
    "log_beta, log_sf2, log_theta = dic['log_beta_opt'], dic['log_sf2_opt'], dic['log_theta_opt']\n",
    "clusters = [i for i in range(100)]"
   ]
  },
  {
   "cell_type": "code",
   "execution_count": 205,
   "metadata": {
    "ExecuteTime": {
     "end_time": "2018-11-12T06:40:20.035251Z",
     "start_time": "2018-11-12T06:40:19.843687Z"
    }
   },
   "outputs": [],
   "source": [
    "model = VBSGPR(N, log_beta, log_sf2, log_theta, \n",
    "               z=dic['z_opt'], qmu=dic['qmu_opt'],\n",
    "               qlogdev=dic['qlogdev_opt'])"
   ]
  },
  {
   "cell_type": "code",
   "execution_count": 206,
   "metadata": {
    "ExecuteTime": {
     "end_time": "2018-11-12T06:40:31.883206Z",
     "start_time": "2018-11-12T06:40:30.227744Z"
    }
   },
   "outputs": [],
   "source": [
    "lb = model.lower_bound()\n",
    "fmu, fcov = model.predict_f()\n",
    "gp_vars = tf.get_collection(tf.GraphKeys.TRAINABLE_VARIABLES, 'vbsgpr')\n",
    "gp_opt = tf.train.AdamOptimizer(0.01, name='gp_opt')\n",
    "gp_train_op = gp_opt.minimize(-lb, var_list=gp_vars)"
   ]
  },
  {
   "cell_type": "code",
   "execution_count": 207,
   "metadata": {
    "ExecuteTime": {
     "end_time": "2018-11-12T06:40:35.622366Z",
     "start_time": "2018-11-12T06:40:35.468878Z"
    }
   },
   "outputs": [],
   "source": [
    "sess.run(tf.global_variables_initializer())\n",
    "# f_test, _ = sess.run([fmu, fcov], {model.x: X_test[0:1, :]})\n",
    "# rmse = np.sqrt(np.mean(y_std**2 * ((y_test - f_test))**2))\n",
    "# print ('test RMSE: {}'.format(rmse))"
   ]
  },
  {
   "cell_type": "code",
   "execution_count": 208,
   "metadata": {
    "ExecuteTime": {
     "end_time": "2018-11-12T06:40:39.495099Z",
     "start_time": "2018-11-12T06:40:38.016173Z"
    }
   },
   "outputs": [
    {
     "data": {
      "text/plain": [
       "-28649.889"
      ]
     },
     "execution_count": 208,
     "metadata": {},
     "output_type": "execute_result"
    }
   ],
   "source": [
    "sess.run(lb, {model.x: X_test, model.y: y_test, model.batch: y_test.shape[0]})"
   ]
  },
  {
   "cell_type": "code",
   "execution_count": 191,
   "metadata": {
    "ExecuteTime": {
     "end_time": "2018-11-12T06:02:09.213061Z",
     "start_time": "2018-11-12T06:02:07.752169Z"
    }
   },
   "outputs": [],
   "source": [
    "f_test, f_cov = sess.run([fmu, fcov], {model.x: X_test})"
   ]
  },
  {
   "cell_type": "code",
   "execution_count": 188,
   "metadata": {
    "ExecuteTime": {
     "end_time": "2018-11-12T05:56:38.426905Z",
     "start_time": "2018-11-12T05:56:38.321355Z"
    }
   },
   "outputs": [
    {
     "data": {
      "text/plain": [
       "39.490065331946056"
      ]
     },
     "execution_count": 188,
     "metadata": {},
     "output_type": "execute_result"
    }
   ],
   "source": [
    "np.sqrt(np.mean(y_std**2 * ((y_test - f_test))**2))"
   ]
  },
  {
   "cell_type": "code",
   "execution_count": 234,
   "metadata": {
    "ExecuteTime": {
     "end_time": "2018-11-12T06:50:38.468586Z",
     "start_time": "2018-11-12T06:50:38.211741Z"
    }
   },
   "outputs": [
    {
     "data": {
      "text/plain": [
       "143.1915"
      ]
     },
     "execution_count": 234,
     "metadata": {},
     "output_type": "execute_result"
    }
   ],
   "source": [
    "model.KL2().eval()"
   ]
  },
  {
   "cell_type": "code",
   "execution_count": 235,
   "metadata": {
    "ExecuteTime": {
     "end_time": "2018-11-12T06:50:40.271096Z",
     "start_time": "2018-11-12T06:50:40.049449Z"
    }
   },
   "outputs": [
    {
     "data": {
      "text/plain": [
       "141.41792"
      ]
     },
     "execution_count": 235,
     "metadata": {},
     "output_type": "execute_result"
    }
   ],
   "source": [
    "model.KL().eval()"
   ]
  },
  {
   "cell_type": "code",
   "execution_count": 240,
   "metadata": {
    "ExecuteTime": {
     "end_time": "2018-11-12T06:53:06.240754Z",
     "start_time": "2018-11-12T06:53:06.098969Z"
    }
   },
   "outputs": [],
   "source": [
    "sigma = tf.exp(model.qlogdev)[:, None]\n",
    "B = tf.matrix_triangular_solve(model.L, model.qmu, lower=True)\n",
    "C = tf.matrix_triangular_solve(model.L, sigma, lower=True)"
   ]
  },
  {
   "cell_type": "code",
   "execution_count": null,
   "metadata": {},
   "outputs": [],
   "source": []
  },
  {
   "cell_type": "code",
   "execution_count": null,
   "metadata": {},
   "outputs": [],
   "source": [
    "sigma2 = tf.diag(tf.exp(2 * model.qlogdev))\n",
    "invKuu = tf.linalg.inv(tf.matmul(model.L, model.L, transpose_b=True))\n",
    "tf.reduce_sum(tf.transpose(model.qmu) @ invKuu @ model.qmu)"
   ]
  },
  {
   "cell_type": "code",
   "execution_count": 226,
   "metadata": {
    "ExecuteTime": {
     "end_time": "2018-11-12T06:48:17.885440Z",
     "start_time": "2018-11-12T06:48:17.703653Z"
    }
   },
   "outputs": [
    {
     "data": {
      "text/plain": [
       "-21.036167"
      ]
     },
     "execution_count": 226,
     "metadata": {},
     "output_type": "execute_result"
    }
   ],
   "source": [
    "tf.reduce_sum(model.qlogdev).eval()"
   ]
  },
  {
   "cell_type": "code",
   "execution_count": 229,
   "metadata": {
    "ExecuteTime": {
     "end_time": "2018-11-12T06:49:18.865119Z",
     "start_time": "2018-11-12T06:49:18.688359Z"
    }
   },
   "outputs": [
    {
     "data": {
      "text/plain": [
       "-21.03616714477539"
      ]
     },
     "execution_count": 229,
     "metadata": {},
     "output_type": "execute_result"
    }
   ],
   "source": [
    "0.5 * tf.log(tf.linalg.det()).eval()"
   ]
  },
  {
   "cell_type": "code",
   "execution_count": 239,
   "metadata": {
    "ExecuteTime": {
     "end_time": "2018-11-12T06:51:31.792986Z",
     "start_time": "2018-11-12T06:51:31.597685Z"
    }
   },
   "outputs": [
    {
     "data": {
      "text/plain": [
       "-10.335327"
      ]
     },
     "execution_count": 239,
     "metadata": {},
     "output_type": "execute_result"
    }
   ],
   "source": [
    "tf.reduce_sum(tf.log(tf.matrix_diag_part(model.L))).eval()"
   ]
  },
  {
   "cell_type": "code",
   "execution_count": 238,
   "metadata": {
    "ExecuteTime": {
     "end_time": "2018-11-12T06:51:17.185859Z",
     "start_time": "2018-11-12T06:51:16.950204Z"
    }
   },
   "outputs": [
    {
     "data": {
      "text/plain": [
       "-10.335325241088867"
      ]
     },
     "execution_count": 238,
     "metadata": {},
     "output_type": "execute_result"
    }
   ],
   "source": [
    "0.5 * tf.log(tf.linalg.det(tf.matmul(model.L, model.L, transpose_b=True))).eval()"
   ]
  },
  {
   "cell_type": "code",
   "execution_count": null,
   "metadata": {},
   "outputs": [],
   "source": []
  }
 ],
 "metadata": {
  "kernelspec": {
   "display_name": "Python 3.5",
   "language": "python",
   "name": "python3.5"
  },
  "language_info": {
   "codemirror_mode": {
    "name": "ipython",
    "version": 3
   },
   "file_extension": ".py",
   "mimetype": "text/x-python",
   "name": "python",
   "nbconvert_exporter": "python",
   "pygments_lexer": "ipython3",
   "version": "3.5.6"
  },
  "latex_envs": {
   "LaTeX_envs_menu_present": true,
   "autoclose": false,
   "autocomplete": true,
   "bibliofile": "biblio.bib",
   "cite_by": "apalike",
   "current_citInitial": 1,
   "eqLabelWithNumbers": true,
   "eqNumInitial": 1,
   "hotkeys": {
    "equation": "Ctrl-E",
    "itemize": "Ctrl-I"
   },
   "labels_anchors": false,
   "latex_user_defs": false,
   "report_style_numbering": false,
   "user_envs_cfg": false
  },
  "toc": {
   "base_numbering": 1,
   "nav_menu": {},
   "number_sections": true,
   "sideBar": true,
   "skip_h1_title": false,
   "title_cell": "Table of Contents",
   "title_sidebar": "Contents",
   "toc_cell": false,
   "toc_position": {},
   "toc_section_display": true,
   "toc_window_display": true
  },
  "varInspector": {
   "cols": {
    "lenName": 16,
    "lenType": 16,
    "lenVar": 40
   },
   "kernels_config": {
    "python": {
     "delete_cmd_postfix": "",
     "delete_cmd_prefix": "del ",
     "library": "var_list.py",
     "varRefreshCmd": "print(var_dic_list())"
    },
    "r": {
     "delete_cmd_postfix": ") ",
     "delete_cmd_prefix": "rm(",
     "library": "var_list.r",
     "varRefreshCmd": "cat(var_dic_list()) "
    }
   },
   "types_to_exclude": [
    "module",
    "function",
    "builtin_function_or_method",
    "instance",
    "_Feature"
   ],
   "window_display": false
  }
 },
 "nbformat": 4,
 "nbformat_minor": 2
}
