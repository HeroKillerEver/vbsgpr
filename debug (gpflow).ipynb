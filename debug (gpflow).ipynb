{
 "cells": [
  {
   "cell_type": "code",
   "execution_count": 142,
   "metadata": {
    "ExecuteTime": {
     "end_time": "2018-11-12T05:23:49.266253Z",
     "start_time": "2018-11-12T05:23:49.078881Z"
    }
   },
   "outputs": [
    {
     "name": "stdout",
     "output_type": "stream",
     "text": [
      "The autoreload extension is already loaded. To reload it, use:\n",
      "  %reload_ext autoreload\n"
     ]
    }
   ],
   "source": [
    "import numpy as np\n",
    "np.set_printoptions(precision=4, suppress=True, linewidth=200)\n",
    "np.random.seed(2018)\n",
    "import pandas as pd\n",
    "import tensorflow as tf\n",
    "import sklearn\n",
    "import matplotlib.pyplot as plt\n",
    "import seaborn as sns\n",
    "%matplotlib inline\n",
    "plt.rcParams['figure.figsize'] = (10.0, 6.0) #set default size of plots\n",
    "plt.rcParams['image.interpolation'] = 'nearest'\n",
    "plt.rcParams['image.cmap'] = 'gray'\n",
    "sns.set(color_codes=True)\n",
    "np.set_printoptions(precision=10, suppress=True, linewidth=200, threshold=1000, edgeitems=25)\n",
    "%load_ext autoreload\n",
    "%autoreload 2\n",
    "\n",
    "import os\n",
    "os.environ[\"CUDA_DEVICE_ORDER\"]=\"PCI_BUS_ID\"\n",
    "# The GPU id to use, usually either \"0\" or \"1\", \"2' \"3\" \"4\"\n",
    "os.environ[\"CUDA_VISIBLE_DEVICES\"]= ''\n",
    "config = tf.ConfigProto()\n",
    "config.gpu_options.allow_growth = True\n",
    "pd.set_option('display.float_format', lambda x: '{:.2f}'.format(x))\n",
    "\n",
    "import warnings\n",
    "warnings.filterwarnings(\"ignore\")"
   ]
  },
  {
   "cell_type": "code",
   "execution_count": 143,
   "metadata": {
    "ExecuteTime": {
     "end_time": "2018-11-12T05:23:50.759292Z",
     "start_time": "2018-11-12T05:23:50.649479Z"
    }
   },
   "outputs": [],
   "source": [
    "from sklearn.metrics import accuracy_score, precision_score, recall_score\n",
    "from sklearn.model_selection import train_test_split\n",
    "from sklearn.metrics import confusion_matrix, precision_recall_curve\n",
    "from sklearn.metrics import roc_auc_score, roc_curve\n",
    "from sklearn.utils import shuffle\n",
    "from sklearn.model_selection import StratifiedShuffleSplit\n",
    "\n",
    "from sklearn.preprocessing import RobustScaler, StandardScaler\n",
    "from sklearn.preprocessing import Normalizer, MinMaxScaler\n",
    "\n",
    "from scipy.cluster.vq import kmeans2 as kmeans"
   ]
  },
  {
   "cell_type": "code",
   "execution_count": 160,
   "metadata": {
    "ExecuteTime": {
     "end_time": "2018-11-12T05:42:25.560447Z",
     "start_time": "2018-11-12T05:42:25.469540Z"
    }
   },
   "outputs": [],
   "source": [
    "import pickle"
   ]
  },
  {
   "cell_type": "code",
   "execution_count": 144,
   "metadata": {
    "ExecuteTime": {
     "end_time": "2018-11-12T05:23:57.743662Z",
     "start_time": "2018-11-12T05:23:57.650998Z"
    }
   },
   "outputs": [],
   "source": [
    "import data_loader"
   ]
  },
  {
   "cell_type": "code",
   "execution_count": 148,
   "metadata": {
    "ExecuteTime": {
     "end_time": "2018-11-12T05:26:58.390914Z",
     "start_time": "2018-11-12T05:26:46.188029Z"
    }
   },
   "outputs": [
    {
     "name": "stdout",
     "output_type": "stream",
     "text": [
      "loading data of 2055732 datapoints...\n",
      "Parition into 10 clusters...\n",
      "Done...!\n",
      "Selecting 10 inducing variables...\n",
      "Done...!\n"
     ]
    }
   ],
   "source": [
    "dtrain, dtest, z, y_std = data_loader.load('airplane.csv', \n",
    "                                           n_clusters=10, \n",
    "                                           n_induce=10)"
   ]
  },
  {
   "cell_type": "code",
   "execution_count": 149,
   "metadata": {
    "ExecuteTime": {
     "end_time": "2018-11-12T05:27:43.383585Z",
     "start_time": "2018-11-12T05:27:43.212059Z"
    }
   },
   "outputs": [
    {
     "data": {
      "text/plain": [
       "array([[-0.0179284717,  0.0019335782,  0.017862637 ,  0.2110224373,  0.1670444271, -0.0526684079,  2.4312289238,  2.4658456743],\n",
       "       [-0.9999493627,  0.5615597869, -0.3055145105,  0.8547245697,  0.8587486505, -0.2506033733, -0.3674875351, -0.3720032212],\n",
       "       [ 0.0705374218, -0.9954600425,  0.5040008111,  0.8869293463,  0.8928602894, -0.2370555461, -0.353768255 , -0.3522754015],\n",
       "       [ 0.9408237903,  0.6457341188, -0.3190887082,  0.9067389244,  0.9326147271, -0.2204848435, -0.2546047288, -0.2525597503],\n",
       "       [-0.7359712287,  0.8199812097, -0.0630753305, -0.6869368361, -0.5658075472, -0.1203727054,  0.6138396752,  0.5950210642],\n",
       "       [-1.0060037805, -0.5949306288, -0.1531476526, -0.7756301883, -0.8292271875, -0.1535441572, -0.5056619261, -0.5087889811],\n",
       "       [ 0.6563558827, -0.8874062092,  0.287212931 , -0.6489287883, -0.5280525907, -0.0697709619,  0.7218450696,  0.7107884736],\n",
       "       [-0.1141023363, -0.0486756423, -0.0506764632,  0.2342179982,  0.2673529397,  2.1323411548, -0.221590179 , -0.2279152114],\n",
       "       [ 0.4844255524,  0.4317654732,  1.0674969544, -0.6437142737, -0.7376025399, -0.1770619899, -0.5321479207, -0.5265078513],\n",
       "       [ 0.8148930706,  0.1305914249, -0.9018416652, -0.7892611487, -0.8399649053, -0.1795964815, -0.4941821051, -0.4954452691]])"
      ]
     },
     "execution_count": 149,
     "metadata": {},
     "output_type": "execute_result"
    }
   ],
   "source": [
    "z"
   ]
  },
  {
   "cell_type": "code",
   "execution_count": 150,
   "metadata": {
    "ExecuteTime": {
     "end_time": "2018-11-12T05:27:53.609884Z",
     "start_time": "2018-11-12T05:27:53.514372Z"
    }
   },
   "outputs": [],
   "source": [
    "X_train, y_train = dtrain[:, :-2], dtrain[:, -2:-1]\n",
    "X_test, y_test = dtest[:, :-2], dtest[:, -2:-1]"
   ]
  },
  {
   "cell_type": "markdown",
   "metadata": {},
   "source": [
    "## VBSGPR"
   ]
  },
  {
   "cell_type": "code",
   "execution_count": 294,
   "metadata": {
    "ExecuteTime": {
     "end_time": "2018-11-12T08:03:54.387969Z",
     "start_time": "2018-11-12T08:03:54.281461Z"
    },
    "scrolled": true
   },
   "outputs": [],
   "source": [
    "tf.reset_default_graph()\n",
    "sess = tf.InteractiveSession()"
   ]
  },
  {
   "cell_type": "code",
   "execution_count": 295,
   "metadata": {
    "ExecuteTime": {
     "end_time": "2018-11-12T08:03:54.998098Z",
     "start_time": "2018-11-12T08:03:54.953810Z"
    }
   },
   "outputs": [],
   "source": [
    "with open('svgp.pkl', 'rb') as f:\n",
    "    dic = pickle.load(f)"
   ]
  },
  {
   "cell_type": "code",
   "execution_count": 296,
   "metadata": {
    "ExecuteTime": {
     "end_time": "2018-11-12T08:03:55.642228Z",
     "start_time": "2018-11-12T08:03:55.571500Z"
    }
   },
   "outputs": [],
   "source": [
    "import tensorflow as tf\n",
    "import numpy as np\n",
    "import random\n",
    "from model import VBSGPR\n",
    "\n",
    "epochs = 10\n",
    "N, total_dim = dtest.shape\n",
    "log_beta, log_sf2, log_theta = dic['log_beta_opt'], dic['log_sf2_opt'], dic['log_theta_opt']\n",
    "clusters = [i for i in range(100)]"
   ]
  },
  {
   "cell_type": "code",
   "execution_count": 297,
   "metadata": {
    "ExecuteTime": {
     "end_time": "2018-11-12T08:03:56.351775Z",
     "start_time": "2018-11-12T08:03:56.188992Z"
    }
   },
   "outputs": [],
   "source": [
    "model = VBSGPR(N, log_beta, log_sf2, log_theta, \n",
    "               z=dic['z_opt'], qmu=dic['qmu_opt'],\n",
    "               qlogdev=dic['qlogdev_opt'], whiten=True)"
   ]
  },
  {
   "cell_type": "code",
   "execution_count": 298,
   "metadata": {
    "ExecuteTime": {
     "end_time": "2018-11-12T08:03:58.596943Z",
     "start_time": "2018-11-12T08:03:57.769792Z"
    }
   },
   "outputs": [],
   "source": [
    "lb = model.lower_bound()\n",
    "fmu, fcov = model.predict_f()\n",
    "gp_vars = tf.get_collection(tf.GraphKeys.TRAINABLE_VARIABLES, 'vbsgpr')\n",
    "gp_opt = tf.train.AdamOptimizer(0.01, name='gp_opt')\n",
    "gp_train_op = gp_opt.minimize(-lb, var_list=gp_vars)"
   ]
  },
  {
   "cell_type": "code",
   "execution_count": 299,
   "metadata": {
    "ExecuteTime": {
     "end_time": "2018-11-12T08:03:59.360222Z",
     "start_time": "2018-11-12T08:03:59.228338Z"
    }
   },
   "outputs": [],
   "source": [
    "sess.run(tf.global_variables_initializer())\n",
    "# f_test, _ = sess.run([fmu, fcov], {model.x: X_test[0:1, :]})\n",
    "# rmse = np.sqrt(np.mean(y_std**2 * ((y_test - f_test))**2))\n",
    "# print ('test RMSE: {}'.format(rmse))"
   ]
  },
  {
   "cell_type": "code",
   "execution_count": 300,
   "metadata": {
    "ExecuteTime": {
     "end_time": "2018-11-12T08:04:01.867360Z",
     "start_time": "2018-11-12T08:04:00.457567Z"
    }
   },
   "outputs": [
    {
     "data": {
      "text/plain": [
       "-28889.615"
      ]
     },
     "execution_count": 300,
     "metadata": {},
     "output_type": "execute_result"
    }
   ],
   "source": [
    "sess.run(lb, {model.x: X_test, model.y: y_test, model.batch: y_test.shape[0]})"
   ]
  },
  {
   "cell_type": "code",
   "execution_count": 292,
   "metadata": {
    "ExecuteTime": {
     "end_time": "2018-11-12T07:57:01.025977Z",
     "start_time": "2018-11-12T07:56:59.640979Z"
    }
   },
   "outputs": [],
   "source": [
    "f_test, f_cov = sess.run([fmu, fcov], {model.x: X_test})"
   ]
  },
  {
   "cell_type": "code",
   "execution_count": 293,
   "metadata": {
    "ExecuteTime": {
     "end_time": "2018-11-12T07:57:07.498969Z",
     "start_time": "2018-11-12T07:57:07.442589Z"
    }
   },
   "outputs": [
    {
     "data": {
      "text/plain": [
       "40.05194397437414"
      ]
     },
     "execution_count": 293,
     "metadata": {},
     "output_type": "execute_result"
    }
   ],
   "source": [
    "np.sqrt(np.mean(y_std**2 * ((y_test - f_test))**2))"
   ]
  },
  {
   "cell_type": "code",
   "execution_count": null,
   "metadata": {},
   "outputs": [],
   "source": []
  }
 ],
 "metadata": {
  "kernelspec": {
   "display_name": "Python 3.5",
   "language": "python",
   "name": "python3.5"
  },
  "language_info": {
   "codemirror_mode": {
    "name": "ipython",
    "version": 3
   },
   "file_extension": ".py",
   "mimetype": "text/x-python",
   "name": "python",
   "nbconvert_exporter": "python",
   "pygments_lexer": "ipython3",
   "version": "3.5.6"
  },
  "latex_envs": {
   "LaTeX_envs_menu_present": true,
   "autoclose": false,
   "autocomplete": true,
   "bibliofile": "biblio.bib",
   "cite_by": "apalike",
   "current_citInitial": 1,
   "eqLabelWithNumbers": true,
   "eqNumInitial": 1,
   "hotkeys": {
    "equation": "Ctrl-E",
    "itemize": "Ctrl-I"
   },
   "labels_anchors": false,
   "latex_user_defs": false,
   "report_style_numbering": false,
   "user_envs_cfg": false
  },
  "toc": {
   "base_numbering": 1,
   "nav_menu": {},
   "number_sections": true,
   "sideBar": true,
   "skip_h1_title": false,
   "title_cell": "Table of Contents",
   "title_sidebar": "Contents",
   "toc_cell": false,
   "toc_position": {},
   "toc_section_display": true,
   "toc_window_display": true
  },
  "varInspector": {
   "cols": {
    "lenName": 16,
    "lenType": 16,
    "lenVar": 40
   },
   "kernels_config": {
    "python": {
     "delete_cmd_postfix": "",
     "delete_cmd_prefix": "del ",
     "library": "var_list.py",
     "varRefreshCmd": "print(var_dic_list())"
    },
    "r": {
     "delete_cmd_postfix": ") ",
     "delete_cmd_prefix": "rm(",
     "library": "var_list.r",
     "varRefreshCmd": "cat(var_dic_list()) "
    }
   },
   "types_to_exclude": [
    "module",
    "function",
    "builtin_function_or_method",
    "instance",
    "_Feature"
   ],
   "window_display": false
  }
 },
 "nbformat": 4,
 "nbformat_minor": 2
}
