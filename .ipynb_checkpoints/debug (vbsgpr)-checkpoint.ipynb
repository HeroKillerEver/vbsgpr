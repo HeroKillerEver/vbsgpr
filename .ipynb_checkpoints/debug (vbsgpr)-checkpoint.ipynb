{
 "cells": [
  {
   "cell_type": "markdown",
   "metadata": {},
   "source": [
    "## Packages"
   ]
  },
  {
   "cell_type": "code",
   "execution_count": 1,
   "metadata": {
    "ExecuteTime": {
     "end_time": "2018-11-06T15:24:12.926032Z",
     "start_time": "2018-11-06T15:24:10.847580Z"
    }
   },
   "outputs": [],
   "source": [
    "import numpy as np\n",
    "np.set_printoptions(precision=4, suppress=True, linewidth=200)\n",
    "np.random.seed(2018)\n",
    "import pandas as pd\n",
    "import tensorflow as tf\n",
    "import sklearn\n",
    "import matplotlib.pyplot as plt\n",
    "import seaborn as sns\n",
    "%matplotlib inline\n",
    "plt.rcParams['figure.figsize'] = (10.0, 6.0) #set default size of plots\n",
    "plt.rcParams['image.interpolation'] = 'nearest'\n",
    "plt.rcParams['image.cmap'] = 'gray'\n",
    "sns.set(color_codes=True)\n",
    "np.set_printoptions(precision=10, suppress=True, linewidth=200, threshold=1000, edgeitems=25)\n",
    "%load_ext autoreload\n",
    "%autoreload 2\n",
    "\n",
    "import os\n",
    "os.environ[\"CUDA_DEVICE_ORDER\"]=\"PCI_BUS_ID\"\n",
    "# The GPU id to use, usually either \"0\" or \"1\", \"2' \"3\" \"4\"\n",
    "os.environ[\"CUDA_VISIBLE_DEVICES\"]= ''\n",
    "config = tf.ConfigProto()\n",
    "config.gpu_options.allow_growth = True\n",
    "pd.set_option('display.float_format', lambda x: '{:.2f}'.format(x))\n",
    "\n",
    "import warnings\n",
    "warnings.filterwarnings(\"ignore\")"
   ]
  },
  {
   "cell_type": "code",
   "execution_count": 2,
   "metadata": {
    "ExecuteTime": {
     "end_time": "2018-11-06T15:24:14.128817Z",
     "start_time": "2018-11-06T15:24:13.673243Z"
    }
   },
   "outputs": [],
   "source": [
    "from sklearn.metrics import accuracy_score, precision_score, recall_score\n",
    "from sklearn.model_selection import train_test_split\n",
    "from sklearn.metrics import confusion_matrix, precision_recall_curve\n",
    "from sklearn.metrics import roc_auc_score, roc_curve\n",
    "from sklearn.utils import shuffle\n",
    "from sklearn.model_selection import StratifiedShuffleSplit\n",
    "\n",
    "from sklearn.preprocessing import RobustScaler, StandardScaler\n",
    "from sklearn.preprocessing import Normalizer, MinMaxScaler\n",
    "\n",
    "from scipy.cluster.vq import kmeans2 as kmeans"
   ]
  },
  {
   "cell_type": "markdown",
   "metadata": {
    "heading_collapsed": true
   },
   "source": [
    "## Check Data (pandas)"
   ]
  },
  {
   "cell_type": "code",
   "execution_count": 185,
   "metadata": {
    "ExecuteTime": {
     "end_time": "2018-11-03T13:46:21.756429Z",
     "start_time": "2018-11-03T13:46:19.321564Z"
    },
    "hidden": true
   },
   "outputs": [],
   "source": [
    "df_airline = pd.read_csv('./data/airplane.csv', header=None)\n",
    "cols = ['a', 'b', 'c', 'd', 'e', 'f', 'g', 'h', 'i']"
   ]
  },
  {
   "cell_type": "code",
   "execution_count": 186,
   "metadata": {
    "ExecuteTime": {
     "end_time": "2018-11-03T13:46:27.003499Z",
     "start_time": "2018-11-03T13:46:26.941820Z"
    },
    "hidden": true,
    "scrolled": true
   },
   "outputs": [],
   "source": [
    "df_airline = df_airline.values\n",
    "df_airline = pd.DataFrame(df_airline, columns=cols)"
   ]
  },
  {
   "cell_type": "code",
   "execution_count": 187,
   "metadata": {
    "ExecuteTime": {
     "end_time": "2018-11-03T13:46:33.333068Z",
     "start_time": "2018-11-03T13:46:31.211581Z"
    },
    "hidden": true,
    "scrolled": true
   },
   "outputs": [
    {
     "data": {
      "text/html": [
       "<div>\n",
       "<style scoped>\n",
       "    .dataframe tbody tr th:only-of-type {\n",
       "        vertical-align: middle;\n",
       "    }\n",
       "\n",
       "    .dataframe tbody tr th {\n",
       "        vertical-align: top;\n",
       "    }\n",
       "\n",
       "    .dataframe thead th {\n",
       "        text-align: right;\n",
       "    }\n",
       "</style>\n",
       "<table border=\"1\" class=\"dataframe\">\n",
       "  <thead>\n",
       "    <tr style=\"text-align: right;\">\n",
       "      <th></th>\n",
       "      <th>a</th>\n",
       "      <th>b</th>\n",
       "      <th>c</th>\n",
       "      <th>d</th>\n",
       "      <th>e</th>\n",
       "      <th>f</th>\n",
       "      <th>g</th>\n",
       "      <th>h</th>\n",
       "      <th>i</th>\n",
       "    </tr>\n",
       "  </thead>\n",
       "  <tbody>\n",
       "    <tr>\n",
       "      <th>count</th>\n",
       "      <td>2055733.00</td>\n",
       "      <td>2055733.00</td>\n",
       "      <td>2055733.00</td>\n",
       "      <td>2055733.00</td>\n",
       "      <td>2055733.00</td>\n",
       "      <td>2055733.00</td>\n",
       "      <td>2055733.00</td>\n",
       "      <td>2055733.00</td>\n",
       "      <td>2055733.00</td>\n",
       "    </tr>\n",
       "    <tr>\n",
       "      <th>mean</th>\n",
       "      <td>2.51</td>\n",
       "      <td>15.69</td>\n",
       "      <td>3.91</td>\n",
       "      <td>815.94</td>\n",
       "      <td>902.73</td>\n",
       "      <td>10.66</td>\n",
       "      <td>104.90</td>\n",
       "      <td>728.28</td>\n",
       "      <td>10.01</td>\n",
       "    </tr>\n",
       "    <tr>\n",
       "      <th>std</th>\n",
       "      <td>1.12</td>\n",
       "      <td>8.75</td>\n",
       "      <td>1.98</td>\n",
       "      <td>288.57</td>\n",
       "      <td>305.41</td>\n",
       "      <td>7.44</td>\n",
       "      <td>67.54</td>\n",
       "      <td>557.21</td>\n",
       "      <td>39.15</td>\n",
       "    </tr>\n",
       "    <tr>\n",
       "      <th>min</th>\n",
       "      <td>1.00</td>\n",
       "      <td>1.00</td>\n",
       "      <td>1.00</td>\n",
       "      <td>1.00</td>\n",
       "      <td>1.00</td>\n",
       "      <td>0.00</td>\n",
       "      <td>0.00</td>\n",
       "      <td>30.00</td>\n",
       "      <td>-91.00</td>\n",
       "    </tr>\n",
       "    <tr>\n",
       "      <th>25%</th>\n",
       "      <td>1.00</td>\n",
       "      <td>8.00</td>\n",
       "      <td>2.00</td>\n",
       "      <td>569.00</td>\n",
       "      <td>668.00</td>\n",
       "      <td>5.00</td>\n",
       "      <td>56.00</td>\n",
       "      <td>329.00</td>\n",
       "      <td>-9.00</td>\n",
       "    </tr>\n",
       "    <tr>\n",
       "      <th>50%</th>\n",
       "      <td>3.00</td>\n",
       "      <td>16.00</td>\n",
       "      <td>4.00</td>\n",
       "      <td>810.00</td>\n",
       "      <td>916.00</td>\n",
       "      <td>8.00</td>\n",
       "      <td>87.00</td>\n",
       "      <td>585.00</td>\n",
       "      <td>0.00</td>\n",
       "    </tr>\n",
       "    <tr>\n",
       "      <th>75%</th>\n",
       "      <td>4.00</td>\n",
       "      <td>23.00</td>\n",
       "      <td>6.00</td>\n",
       "      <td>1055.00</td>\n",
       "      <td>1154.00</td>\n",
       "      <td>16.00</td>\n",
       "      <td>134.00</td>\n",
       "      <td>956.00</td>\n",
       "      <td>14.00</td>\n",
       "    </tr>\n",
       "    <tr>\n",
       "      <th>max</th>\n",
       "      <td>4.00</td>\n",
       "      <td>31.00</td>\n",
       "      <td>7.00</td>\n",
       "      <td>1440.00</td>\n",
       "      <td>1440.00</td>\n",
       "      <td>52.00</td>\n",
       "      <td>886.00</td>\n",
       "      <td>4962.00</td>\n",
       "      <td>2461.00</td>\n",
       "    </tr>\n",
       "  </tbody>\n",
       "</table>\n",
       "</div>"
      ],
      "text/plain": [
       "               a          b          c          d          e          f  \\\n",
       "count 2055733.00 2055733.00 2055733.00 2055733.00 2055733.00 2055733.00   \n",
       "mean        2.51      15.69       3.91     815.94     902.73      10.66   \n",
       "std         1.12       8.75       1.98     288.57     305.41       7.44   \n",
       "min         1.00       1.00       1.00       1.00       1.00       0.00   \n",
       "25%         1.00       8.00       2.00     569.00     668.00       5.00   \n",
       "50%         3.00      16.00       4.00     810.00     916.00       8.00   \n",
       "75%         4.00      23.00       6.00    1055.00    1154.00      16.00   \n",
       "max         4.00      31.00       7.00    1440.00    1440.00      52.00   \n",
       "\n",
       "               g          h          i  \n",
       "count 2055733.00 2055733.00 2055733.00  \n",
       "mean      104.90     728.28      10.01  \n",
       "std        67.54     557.21      39.15  \n",
       "min         0.00      30.00     -91.00  \n",
       "25%        56.00     329.00      -9.00  \n",
       "50%        87.00     585.00       0.00  \n",
       "75%       134.00     956.00      14.00  \n",
       "max       886.00    4962.00    2461.00  "
      ]
     },
     "execution_count": 187,
     "metadata": {},
     "output_type": "execute_result"
    }
   ],
   "source": [
    "df_airline.describe()"
   ]
  },
  {
   "cell_type": "code",
   "execution_count": 121,
   "metadata": {
    "ExecuteTime": {
     "end_time": "2018-11-02T16:58:45.993093Z",
     "start_time": "2018-11-02T16:57:04.673073Z"
    },
    "hidden": true
   },
   "outputs": [],
   "source": [
    "_, clusters = kmeans(df_airline.values.astype('float32'), 1000, minit='points')"
   ]
  },
  {
   "cell_type": "code",
   "execution_count": 188,
   "metadata": {
    "ExecuteTime": {
     "end_time": "2018-11-03T13:46:37.720830Z",
     "start_time": "2018-11-03T13:46:37.656575Z"
    },
    "hidden": true
   },
   "outputs": [],
   "source": [
    "df_airline['cluster'] = pd.Series(clusters, index=df_airline.index)"
   ]
  },
  {
   "cell_type": "code",
   "execution_count": 191,
   "metadata": {
    "ExecuteTime": {
     "end_time": "2018-11-03T13:48:05.967966Z",
     "start_time": "2018-11-03T13:48:05.017768Z"
    },
    "hidden": true
   },
   "outputs": [],
   "source": [
    "X = df_airline.iloc[:, :-2]\n",
    "y = df_airline.iloc[:, -2:]\n",
    "X_train, X_test, y_train, y_test = train_test_split(X, y, test_size=0.01, random_state=2018)"
   ]
  },
  {
   "cell_type": "code",
   "execution_count": 197,
   "metadata": {
    "ExecuteTime": {
     "end_time": "2018-11-03T13:54:13.470022Z",
     "start_time": "2018-11-03T13:54:12.699858Z"
    },
    "hidden": true
   },
   "outputs": [],
   "source": [
    "df_airline_train, df_airline_test = train_test_split(df_airline, test_size=0.01, random_state=2018)"
   ]
  },
  {
   "cell_type": "code",
   "execution_count": 199,
   "metadata": {
    "ExecuteTime": {
     "end_time": "2018-11-03T13:54:17.423551Z",
     "start_time": "2018-11-03T13:54:17.359833Z"
    },
    "hidden": true
   },
   "outputs": [
    {
     "data": {
      "text/plain": [
       "((2035175, 10), (20558, 10))"
      ]
     },
     "execution_count": 199,
     "metadata": {},
     "output_type": "execute_result"
    }
   ],
   "source": [
    "df_airline_train.shape, df_airline_test.shape"
   ]
  },
  {
   "cell_type": "code",
   "execution_count": 217,
   "metadata": {
    "ExecuteTime": {
     "end_time": "2018-11-03T15:40:23.069107Z",
     "start_time": "2018-11-03T15:40:23.043679Z"
    },
    "hidden": true
   },
   "outputs": [],
   "source": [
    "normalizer = StandardScaler()"
   ]
  },
  {
   "cell_type": "code",
   "execution_count": 218,
   "metadata": {
    "ExecuteTime": {
     "end_time": "2018-11-03T15:40:24.447131Z",
     "start_time": "2018-11-03T15:40:23.840588Z"
    },
    "hidden": true
   },
   "outputs": [],
   "source": [
    "df_train_norm = normalizer.fit_transform(df_airline_train.values[:, :-1]) # no cluster\n",
    "df_test_norm = normalizer.fit_transform(df_airline_test.values[:, :-1])  # no cluster"
   ]
  },
  {
   "cell_type": "code",
   "execution_count": 219,
   "metadata": {
    "ExecuteTime": {
     "end_time": "2018-11-03T15:40:28.023406Z",
     "start_time": "2018-11-03T15:40:27.830304Z"
    },
    "hidden": true
   },
   "outputs": [
    {
     "data": {
      "text/plain": [
       "array([[ -1.35,   0.38,   1.05,  -1.22,  -1.21,   1.39,  -0.13,  -0.25,  -0.41, 587.  ],\n",
       "       [  1.32,   0.15,   0.04,  -2.82,  -1.89,   1.26,   1.17,   1.58,  -0.87, 317.  ],\n",
       "       [ -0.46,   0.26,  -1.47,  -0.5 ,  -0.55,  -0.22,  -0.78,  -0.93,   0.23,  95.  ],\n",
       "       [  0.43,  -0.42,  -0.46,  -0.66,  -0.48,  -0.36,  -0.49,  -0.53,   0.38, 966.  ],\n",
       "       [ -1.35,  -1.68,  -0.97,   0.21,   0.4 ,  -0.09,   2.99,   2.6 ,  -0.03, 338.  ],\n",
       "       [  0.43,   0.72,   1.05,  -0.77,  -0.66,   0.05,   1.36,   1.05,  -0.26, 313.  ],\n",
       "       [ -1.35,   1.06,   0.55,  -0.41,   0.73,  -0.89,   1.63,   2.33,  -0.1 , 183.  ],\n",
       "       [ -0.46,  -1.45,   1.56,  -0.78,   0.14,  -0.36,   1.66,   2.28,  -1.12, 606.  ],\n",
       "       [ -0.46,   0.49,  -0.46,  -0.1 ,  -0.29,  -1.03,  -0.5 ,  -0.53,  -0.28, 962.  ],\n",
       "       [  1.32,  -0.54,   0.55,  -1.57,  -1.65,  -0.09,  -0.46,  -0.44,  -0.15, 610.  ],\n",
       "       [  1.32,   1.18,   1.05,   1.27,   1.5 ,   3.  ,   0.  ,   0.2 ,  -0.46, 658.  ],\n",
       "       [  0.43,   0.72,   1.05,   1.11,   1.27,   0.31,   0.36,   0.42,  -0.2 , 414.  ],\n",
       "       [  0.43,  -0.54,  -0.97,   0.63,   0.54,  -0.49,  -0.86,  -0.75,  -0.18, 740.  ],\n",
       "       ...,\n",
       "       [ -0.46,   1.06,  -1.47,  -1.13,  -0.87,  -0.89,   0.45,   0.44,  -0.54, 322.  ],\n",
       "       [  0.43,   1.52,   1.05,   0.66,   0.68,  -0.49,  -0.34,  -0.47,   0.26,  77.  ],\n",
       "       [ -0.46,  -0.08,   0.55,  -1.39,  -1.34,  -1.16,   0.06,   0.16,  -0.43, 877.  ],\n",
       "       [ -1.35,  -1.11,   1.56,  -1.2 ,  -1.14,  -0.89,  -0.53,  -0.5 ,  -0.66, 692.  ],\n",
       "       [ -1.35,  -0.65,   0.04,  -0.24,  -0.33,   0.58,  -0.98,  -0.97,  -0.72, 228.  ],\n",
       "       [  1.32,   0.95,   0.04,   2.14,  -1.82,  -0.76,   1.08,   1.41,  -0.05, 653.  ],\n",
       "       [  0.43,   0.49,   0.04,  -0.52,  -0.57,  -0.49,  -0.77,  -0.8 ,  -0.31,  42.  ],\n",
       "       [  0.43,  -0.42,  -0.46,   1.18,   1.14,  -0.36,  -0.69,  -0.67,   0.05, 603.  ],\n",
       "       [  0.43,   1.41,   0.55,  -0.45,  -0.17,  -1.43,  -0.27,  -0.24,  -0.46, 108.  ],\n",
       "       [ -0.46,  -0.19,   0.04,  -0.17,  -0.27,  -0.63,  -0.98,  -0.92,   0.66, 228.  ],\n",
       "       [  0.43,   0.15,  -1.47,   1.41,   1.32,  -0.09,   0.06,  -0.36,   1.92, 191.  ],\n",
       "       [ -0.46,   1.06,  -1.47,  -0.71,  -0.66,  -0.89,  -0.46,  -0.68,  -0.26, 220.  ],\n",
       "       [ -1.35,   0.61,  -1.47,  -1.39,  -1.41,  -0.49,  -1.2 ,  -1.17,  -0.1 , 413.  ]])"
      ]
     },
     "execution_count": 219,
     "metadata": {},
     "output_type": "execute_result"
    }
   ],
   "source": [
    "np.column_stack((df_train_norm, df_airline_train.cluster.values))"
   ]
  },
  {
   "cell_type": "code",
   "execution_count": 82,
   "metadata": {
    "code_folding": [
     0
    ],
    "hidden": true
   },
   "outputs": [],
   "source": [
    "#\n",
    "normalizer_x = StandardScaler()\n",
    "normalizer_y = StandardScaler()\n",
    "\n",
    "X_train_norm = normalizer_x.fit_transform(X_train)\n",
    "y_train_norm = normalizer_y.fit_transform(y_train.values[:, None])\n",
    "\n",
    "X_test_norm = normalizer_x.fit_transform(X_test)\n",
    "y_test_norm = normalizer_y.fit_transform(y_test.values[:, None])"
   ]
  },
  {
   "cell_type": "markdown",
   "metadata": {},
   "source": [
    "## Load dataloader"
   ]
  },
  {
   "cell_type": "code",
   "execution_count": 3,
   "metadata": {
    "ExecuteTime": {
     "end_time": "2018-11-06T15:24:21.275028Z",
     "start_time": "2018-11-06T15:24:21.233065Z"
    }
   },
   "outputs": [],
   "source": [
    "import data_loader"
   ]
  },
  {
   "cell_type": "code",
   "execution_count": 4,
   "metadata": {
    "ExecuteTime": {
     "end_time": "2018-11-06T15:24:30.429268Z",
     "start_time": "2018-11-06T15:24:21.802286Z"
    },
    "scrolled": true
   },
   "outputs": [
    {
     "name": "stdout",
     "output_type": "stream",
     "text": [
      "loading data of 2055732 datapoints...\n",
      "Parition into 10 clusters...\n",
      "Done...!\n",
      "Selecting 10 inducing variables...\n",
      "Done...!\n"
     ]
    }
   ],
   "source": [
    "dtrain, dtest, z, y_std = data_loader.load('airplane.csv', n_clusters=10, n_induce=10)"
   ]
  },
  {
   "cell_type": "code",
   "execution_count": 5,
   "metadata": {
    "ExecuteTime": {
     "end_time": "2018-11-06T15:24:45.665893Z",
     "start_time": "2018-11-06T15:24:45.607689Z"
    }
   },
   "outputs": [
    {
     "data": {
      "text/plain": [
       "array([[-0.0183623053,  0.0039863272,  0.0377132151, -0.0657105467, -0.2229175145, -0.0788393462,  2.5291129007,  2.5756168725],\n",
       "       [ 0.0575615835,  0.9818929474, -0.5998917844,  0.8712530964,  0.8579403813, -0.1534421535, -0.4567876298, -0.4551501266],\n",
       "       [ 0.801052871 ,  0.4912907391,  0.983274286 , -0.428765772 , -0.5213335694, -0.2005914024, -0.414375656 , -0.4081346277],\n",
       "       [ 0.9372755788, -0.6964453508, -0.3990107054, -0.6081058684, -0.5265593061, -0.0830394597,  0.42818999  ,  0.4123749533],\n",
       "       [-0.8963929201, -0.5443978558,  0.5993757599, -0.8162024346, -0.8183606313, -0.1300564132, -0.2102058171, -0.2186118983],\n",
       "       [-0.1185708462, -0.915769515 , -0.8841235821,  0.6732155078,  0.6439957187, -0.1596017538, -0.467462031 , -0.4665016224],\n",
       "       [-0.3277093448,  0.3299579845,  0.1741503762,  0.5641037834,  0.8641794903,  0.0374401165,  0.9892656781,  0.9673243396],\n",
       "       [-0.1083837057, -0.4744585462,  0.998085389 ,  0.979449902 ,  0.958477559 , -0.1435693639, -0.4592176677, -0.4484718384],\n",
       "       [-0.0588286538,  0.5827014168, -0.828911659 , -0.9646076861, -0.9873890123, -0.1669012492, -0.4516626251, -0.4588085913],\n",
       "       [-0.0931803835,  0.0614501709, -0.0163126147, -0.0188550899, -0.0327031601,  2.6072270569, -0.3589116461, -0.3662730394]])"
      ]
     },
     "execution_count": 5,
     "metadata": {},
     "output_type": "execute_result"
    }
   ],
   "source": [
    "z"
   ]
  },
  {
   "cell_type": "code",
   "execution_count": null,
   "metadata": {},
   "outputs": [],
   "source": []
  },
  {
   "cell_type": "markdown",
   "metadata": {
    "heading_collapsed": true
   },
   "source": [
    "## VBSGPR"
   ]
  },
  {
   "cell_type": "code",
   "execution_count": 45,
   "metadata": {
    "ExecuteTime": {
     "end_time": "2018-11-06T14:43:18.032168Z",
     "start_time": "2018-11-06T14:43:17.895246Z"
    },
    "hidden": true
   },
   "outputs": [],
   "source": [
    "tf.reset_default_graph()\n",
    "sess = tf.InteractiveSession()"
   ]
  },
  {
   "cell_type": "code",
   "execution_count": 46,
   "metadata": {
    "ExecuteTime": {
     "end_time": "2018-11-06T14:43:20.803039Z",
     "start_time": "2018-11-06T14:43:20.729483Z"
    },
    "hidden": true
   },
   "outputs": [],
   "source": [
    "import tensorflow as tf\n",
    "import numpy as np\n",
    "import random\n",
    "from model import VBSGPR\n",
    "\n",
    "epochs = 10\n",
    "N, total_dim = dtrain.shape\n",
    "log_beta, log_sf2, log_theta = 0., 0., 0.\n",
    "clusters = [i for i in range(100)]"
   ]
  },
  {
   "cell_type": "code",
   "execution_count": 47,
   "metadata": {
    "ExecuteTime": {
     "end_time": "2018-11-06T14:43:22.745451Z",
     "start_time": "2018-11-06T14:43:22.642791Z"
    },
    "hidden": true
   },
   "outputs": [],
   "source": [
    "model = VBSGPR(N, log_beta_opt, log_sf2_opt, log_theta_opt, z_opt,  qmu_opt, qlogdev_opt)"
   ]
  },
  {
   "cell_type": "code",
   "execution_count": 48,
   "metadata": {
    "ExecuteTime": {
     "end_time": "2018-11-06T14:43:26.966035Z",
     "start_time": "2018-11-06T14:43:25.464912Z"
    },
    "hidden": true
   },
   "outputs": [],
   "source": [
    "lb = model.lower_bound()\n",
    "fmu, fcov = model.predict_f()\n",
    "gp_vars = tf.get_collection(tf.GraphKeys.TRAINABLE_VARIABLES, 'vbsgpr')\n",
    "gp_opt = tf.train.AdamOptimizer(0.01, name='gp_opt')\n",
    "gp_train_op = gp_opt.minimize(-lb, var_list=gp_vars)"
   ]
  },
  {
   "cell_type": "code",
   "execution_count": 49,
   "metadata": {
    "ExecuteTime": {
     "end_time": "2018-11-06T14:43:31.562274Z",
     "start_time": "2018-11-06T14:43:30.026218Z"
    },
    "hidden": true
   },
   "outputs": [
    {
     "name": "stdout",
     "output_type": "stream",
     "text": [
      "test RMSE: 92.66540304039415\n"
     ]
    }
   ],
   "source": [
    "sess.run(tf.global_variables_initializer())\n",
    "f_test, _ = sess.run([fmu, fcov], {model.x: X_test})\n",
    "rmse = np.sqrt(np.mean(y_std**2 * ((y_test - f_test))**2))\n",
    "print ('test RMSE: {}'.format(rmse))"
   ]
  },
  {
   "cell_type": "code",
   "execution_count": 40,
   "metadata": {
    "ExecuteTime": {
     "end_time": "2018-11-06T14:34:14.290161Z",
     "start_time": "2018-11-06T14:34:14.130732Z"
    },
    "hidden": true
   },
   "outputs": [
    {
     "data": {
      "text/plain": [
       "array([-3.7 , -2.28, -2.24, -2.16, -2.09, -1.54, -1.72, -2.11, -1.6 , -2.51], dtype=float32)"
      ]
     },
     "execution_count": 40,
     "metadata": {},
     "output_type": "execute_result"
    }
   ],
   "source": [
    "model.qlogdev.eval()"
   ]
  },
  {
   "cell_type": "code",
   "execution_count": 20,
   "metadata": {
    "ExecuteTime": {
     "end_time": "2018-11-06T13:43:07.105626Z",
     "start_time": "2018-11-06T13:39:17.198832Z"
    },
    "hidden": true,
    "scrolled": true
   },
   "outputs": [
    {
     "name": "stdout",
     "output_type": "stream",
     "text": [
      "Epoch: [0], The 0-th Cluster: [48], Lower Bound: [-3974380.25]\n",
      "Epoch 0 test RMSE: 41.53027644638963\n",
      "Epoch: [0], The 50-th Cluster: [83], Lower Bound: [-3077978.25]\n",
      "Epoch 0 test RMSE: 41.1021385703996\n"
     ]
    },
    {
     "ename": "KeyboardInterrupt",
     "evalue": "",
     "output_type": "error",
     "traceback": [
      "\u001b[0;31m---------------------------------------------------------------------------\u001b[0m",
      "\u001b[0;31mKeyboardInterrupt\u001b[0m                         Traceback (most recent call last)",
      "\u001b[0;32m<ipython-input-20-4a879f75625c>\u001b[0m in \u001b[0;36m<module>\u001b[0;34m\u001b[0m\n\u001b[1;32m      6\u001b[0m         \u001b[0mdata_batch\u001b[0m \u001b[0;34m=\u001b[0m \u001b[0mdtrain\u001b[0m\u001b[0;34m[\u001b[0m\u001b[0mnp\u001b[0m\u001b[0;34m.\u001b[0m\u001b[0mwhere\u001b[0m\u001b[0;34m(\u001b[0m\u001b[0mdtrain\u001b[0m\u001b[0;34m[\u001b[0m\u001b[0;34m:\u001b[0m\u001b[0;34m,\u001b[0m \u001b[0;34m-\u001b[0m\u001b[0;36m1\u001b[0m\u001b[0;34m]\u001b[0m \u001b[0;34m==\u001b[0m \u001b[0mcluster\u001b[0m\u001b[0;34m)\u001b[0m\u001b[0;34m]\u001b[0m\u001b[0;34m\u001b[0m\u001b[0m\n\u001b[1;32m      7\u001b[0m         \u001b[0mX\u001b[0m\u001b[0;34m,\u001b[0m \u001b[0my\u001b[0m \u001b[0;34m=\u001b[0m \u001b[0mdata_batch\u001b[0m\u001b[0;34m[\u001b[0m\u001b[0;34m:\u001b[0m\u001b[0;34m,\u001b[0m \u001b[0;34m:\u001b[0m\u001b[0;34m-\u001b[0m\u001b[0;36m2\u001b[0m\u001b[0;34m]\u001b[0m\u001b[0;34m,\u001b[0m \u001b[0mdata_batch\u001b[0m\u001b[0;34m[\u001b[0m\u001b[0;34m:\u001b[0m\u001b[0;34m,\u001b[0m \u001b[0;34m-\u001b[0m\u001b[0;36m2\u001b[0m\u001b[0;34m:\u001b[0m\u001b[0;34m-\u001b[0m\u001b[0;36m1\u001b[0m\u001b[0;34m]\u001b[0m\u001b[0;34m\u001b[0m\u001b[0m\n\u001b[0;32m----> 8\u001b[0;31m         \u001b[0m_\u001b[0m\u001b[0;34m,\u001b[0m \u001b[0mlb_\u001b[0m \u001b[0;34m=\u001b[0m \u001b[0msess\u001b[0m\u001b[0;34m.\u001b[0m\u001b[0mrun\u001b[0m\u001b[0;34m(\u001b[0m\u001b[0;34m[\u001b[0m\u001b[0mgp_train_op\u001b[0m\u001b[0;34m,\u001b[0m \u001b[0mlb\u001b[0m\u001b[0;34m]\u001b[0m\u001b[0;34m,\u001b[0m \u001b[0;34m{\u001b[0m\u001b[0mmodel\u001b[0m\u001b[0;34m.\u001b[0m\u001b[0mx\u001b[0m\u001b[0;34m:\u001b[0m \u001b[0mX\u001b[0m\u001b[0;34m,\u001b[0m \u001b[0mmodel\u001b[0m\u001b[0;34m.\u001b[0m\u001b[0my\u001b[0m\u001b[0;34m:\u001b[0m \u001b[0my\u001b[0m\u001b[0;34m,\u001b[0m \u001b[0mmodel\u001b[0m\u001b[0;34m.\u001b[0m\u001b[0mbatch\u001b[0m\u001b[0;34m:\u001b[0m \u001b[0my\u001b[0m\u001b[0;34m.\u001b[0m\u001b[0mshape\u001b[0m\u001b[0;34m[\u001b[0m\u001b[0;36m0\u001b[0m\u001b[0;34m]\u001b[0m\u001b[0;34m}\u001b[0m\u001b[0;34m)\u001b[0m\u001b[0;34m\u001b[0m\u001b[0m\n\u001b[0m\u001b[1;32m      9\u001b[0m         \u001b[0;32mif\u001b[0m \u001b[0mi\u001b[0m \u001b[0;34m%\u001b[0m \u001b[0;36m50\u001b[0m \u001b[0;34m==\u001b[0m \u001b[0;36m0\u001b[0m\u001b[0;34m:\u001b[0m\u001b[0;34m\u001b[0m\u001b[0m\n\u001b[1;32m     10\u001b[0m             print ('Epoch: [{}], The {}-th Cluster: [{}], Lower Bound: [{}]'.format(\n",
      "\u001b[0;32m~/.py3.5/lib/python3.5/site-packages/tensorflow/python/client/session.py\u001b[0m in \u001b[0;36mrun\u001b[0;34m(self, fetches, feed_dict, options, run_metadata)\u001b[0m\n\u001b[1;32m    885\u001b[0m     \u001b[0;32mtry\u001b[0m\u001b[0;34m:\u001b[0m\u001b[0;34m\u001b[0m\u001b[0m\n\u001b[1;32m    886\u001b[0m       result = self._run(None, fetches, feed_dict, options_ptr,\n\u001b[0;32m--> 887\u001b[0;31m                          run_metadata_ptr)\n\u001b[0m\u001b[1;32m    888\u001b[0m       \u001b[0;32mif\u001b[0m \u001b[0mrun_metadata\u001b[0m\u001b[0;34m:\u001b[0m\u001b[0;34m\u001b[0m\u001b[0m\n\u001b[1;32m    889\u001b[0m         \u001b[0mproto_data\u001b[0m \u001b[0;34m=\u001b[0m \u001b[0mtf_session\u001b[0m\u001b[0;34m.\u001b[0m\u001b[0mTF_GetBuffer\u001b[0m\u001b[0;34m(\u001b[0m\u001b[0mrun_metadata_ptr\u001b[0m\u001b[0;34m)\u001b[0m\u001b[0;34m\u001b[0m\u001b[0m\n",
      "\u001b[0;32m~/.py3.5/lib/python3.5/site-packages/tensorflow/python/client/session.py\u001b[0m in \u001b[0;36m_run\u001b[0;34m(self, handle, fetches, feed_dict, options, run_metadata)\u001b[0m\n\u001b[1;32m   1108\u001b[0m     \u001b[0;32mif\u001b[0m \u001b[0mfinal_fetches\u001b[0m \u001b[0;32mor\u001b[0m \u001b[0mfinal_targets\u001b[0m \u001b[0;32mor\u001b[0m \u001b[0;34m(\u001b[0m\u001b[0mhandle\u001b[0m \u001b[0;32mand\u001b[0m \u001b[0mfeed_dict_tensor\u001b[0m\u001b[0;34m)\u001b[0m\u001b[0;34m:\u001b[0m\u001b[0;34m\u001b[0m\u001b[0m\n\u001b[1;32m   1109\u001b[0m       results = self._do_run(handle, final_targets, final_fetches,\n\u001b[0;32m-> 1110\u001b[0;31m                              feed_dict_tensor, options, run_metadata)\n\u001b[0m\u001b[1;32m   1111\u001b[0m     \u001b[0;32melse\u001b[0m\u001b[0;34m:\u001b[0m\u001b[0;34m\u001b[0m\u001b[0m\n\u001b[1;32m   1112\u001b[0m       \u001b[0mresults\u001b[0m \u001b[0;34m=\u001b[0m \u001b[0;34m[\u001b[0m\u001b[0;34m]\u001b[0m\u001b[0;34m\u001b[0m\u001b[0m\n",
      "\u001b[0;32m~/.py3.5/lib/python3.5/site-packages/tensorflow/python/client/session.py\u001b[0m in \u001b[0;36m_do_run\u001b[0;34m(self, handle, target_list, fetch_list, feed_dict, options, run_metadata)\u001b[0m\n\u001b[1;32m   1284\u001b[0m     \u001b[0;32mif\u001b[0m \u001b[0mhandle\u001b[0m \u001b[0;32mis\u001b[0m \u001b[0;32mNone\u001b[0m\u001b[0;34m:\u001b[0m\u001b[0;34m\u001b[0m\u001b[0m\n\u001b[1;32m   1285\u001b[0m       return self._do_call(_run_fn, feeds, fetches, targets, options,\n\u001b[0;32m-> 1286\u001b[0;31m                            run_metadata)\n\u001b[0m\u001b[1;32m   1287\u001b[0m     \u001b[0;32melse\u001b[0m\u001b[0;34m:\u001b[0m\u001b[0;34m\u001b[0m\u001b[0m\n\u001b[1;32m   1288\u001b[0m       \u001b[0;32mreturn\u001b[0m \u001b[0mself\u001b[0m\u001b[0;34m.\u001b[0m\u001b[0m_do_call\u001b[0m\u001b[0;34m(\u001b[0m\u001b[0m_prun_fn\u001b[0m\u001b[0;34m,\u001b[0m \u001b[0mhandle\u001b[0m\u001b[0;34m,\u001b[0m \u001b[0mfeeds\u001b[0m\u001b[0;34m,\u001b[0m \u001b[0mfetches\u001b[0m\u001b[0;34m)\u001b[0m\u001b[0;34m\u001b[0m\u001b[0m\n",
      "\u001b[0;32m~/.py3.5/lib/python3.5/site-packages/tensorflow/python/client/session.py\u001b[0m in \u001b[0;36m_do_call\u001b[0;34m(self, fn, *args)\u001b[0m\n\u001b[1;32m   1290\u001b[0m   \u001b[0;32mdef\u001b[0m \u001b[0m_do_call\u001b[0m\u001b[0;34m(\u001b[0m\u001b[0mself\u001b[0m\u001b[0;34m,\u001b[0m \u001b[0mfn\u001b[0m\u001b[0;34m,\u001b[0m \u001b[0;34m*\u001b[0m\u001b[0margs\u001b[0m\u001b[0;34m)\u001b[0m\u001b[0;34m:\u001b[0m\u001b[0;34m\u001b[0m\u001b[0m\n\u001b[1;32m   1291\u001b[0m     \u001b[0;32mtry\u001b[0m\u001b[0;34m:\u001b[0m\u001b[0;34m\u001b[0m\u001b[0m\n\u001b[0;32m-> 1292\u001b[0;31m       \u001b[0;32mreturn\u001b[0m \u001b[0mfn\u001b[0m\u001b[0;34m(\u001b[0m\u001b[0;34m*\u001b[0m\u001b[0margs\u001b[0m\u001b[0;34m)\u001b[0m\u001b[0;34m\u001b[0m\u001b[0m\n\u001b[0m\u001b[1;32m   1293\u001b[0m     \u001b[0;32mexcept\u001b[0m \u001b[0merrors\u001b[0m\u001b[0;34m.\u001b[0m\u001b[0mOpError\u001b[0m \u001b[0;32mas\u001b[0m \u001b[0me\u001b[0m\u001b[0;34m:\u001b[0m\u001b[0;34m\u001b[0m\u001b[0m\n\u001b[1;32m   1294\u001b[0m       \u001b[0mmessage\u001b[0m \u001b[0;34m=\u001b[0m \u001b[0mcompat\u001b[0m\u001b[0;34m.\u001b[0m\u001b[0mas_text\u001b[0m\u001b[0;34m(\u001b[0m\u001b[0me\u001b[0m\u001b[0;34m.\u001b[0m\u001b[0mmessage\u001b[0m\u001b[0;34m)\u001b[0m\u001b[0;34m\u001b[0m\u001b[0m\n",
      "\u001b[0;32m~/.py3.5/lib/python3.5/site-packages/tensorflow/python/client/session.py\u001b[0m in \u001b[0;36m_run_fn\u001b[0;34m(feed_dict, fetch_list, target_list, options, run_metadata)\u001b[0m\n\u001b[1;32m   1275\u001b[0m       \u001b[0mself\u001b[0m\u001b[0;34m.\u001b[0m\u001b[0m_extend_graph\u001b[0m\u001b[0;34m(\u001b[0m\u001b[0;34m)\u001b[0m\u001b[0;34m\u001b[0m\u001b[0m\n\u001b[1;32m   1276\u001b[0m       return self._call_tf_sessionrun(\n\u001b[0;32m-> 1277\u001b[0;31m           options, feed_dict, fetch_list, target_list, run_metadata)\n\u001b[0m\u001b[1;32m   1278\u001b[0m \u001b[0;34m\u001b[0m\u001b[0m\n\u001b[1;32m   1279\u001b[0m     \u001b[0;32mdef\u001b[0m \u001b[0m_prun_fn\u001b[0m\u001b[0;34m(\u001b[0m\u001b[0mhandle\u001b[0m\u001b[0;34m,\u001b[0m \u001b[0mfeed_dict\u001b[0m\u001b[0;34m,\u001b[0m \u001b[0mfetch_list\u001b[0m\u001b[0;34m)\u001b[0m\u001b[0;34m:\u001b[0m\u001b[0;34m\u001b[0m\u001b[0m\n",
      "\u001b[0;32m~/.py3.5/lib/python3.5/site-packages/tensorflow/python/client/session.py\u001b[0m in \u001b[0;36m_call_tf_sessionrun\u001b[0;34m(self, options, feed_dict, fetch_list, target_list, run_metadata)\u001b[0m\n\u001b[1;32m   1365\u001b[0m     return tf_session.TF_SessionRun_wrapper(\n\u001b[1;32m   1366\u001b[0m         \u001b[0mself\u001b[0m\u001b[0;34m.\u001b[0m\u001b[0m_session\u001b[0m\u001b[0;34m,\u001b[0m \u001b[0moptions\u001b[0m\u001b[0;34m,\u001b[0m \u001b[0mfeed_dict\u001b[0m\u001b[0;34m,\u001b[0m \u001b[0mfetch_list\u001b[0m\u001b[0;34m,\u001b[0m \u001b[0mtarget_list\u001b[0m\u001b[0;34m,\u001b[0m\u001b[0;34m\u001b[0m\u001b[0m\n\u001b[0;32m-> 1367\u001b[0;31m         run_metadata)\n\u001b[0m\u001b[1;32m   1368\u001b[0m \u001b[0;34m\u001b[0m\u001b[0m\n\u001b[1;32m   1369\u001b[0m   \u001b[0;32mdef\u001b[0m \u001b[0m_call_tf_sessionprun\u001b[0m\u001b[0;34m(\u001b[0m\u001b[0mself\u001b[0m\u001b[0;34m,\u001b[0m \u001b[0mhandle\u001b[0m\u001b[0;34m,\u001b[0m \u001b[0mfeed_dict\u001b[0m\u001b[0;34m,\u001b[0m \u001b[0mfetch_list\u001b[0m\u001b[0;34m)\u001b[0m\u001b[0;34m:\u001b[0m\u001b[0;34m\u001b[0m\u001b[0m\n",
      "\u001b[0;31mKeyboardInterrupt\u001b[0m: "
     ]
    }
   ],
   "source": [
    "# with tf.Session() as sess:\n",
    "sess.run(tf.global_variables_initializer())\n",
    "for epoch in range(epochs):\n",
    "    random.shuffle(clusters)\n",
    "    for i, cluster in enumerate(clusters):\n",
    "        data_batch = dtrain[np.where(dtrain[:, -1] == cluster)]\n",
    "        X, y = data_batch[:, :-2], data_batch[:, -2:-1]\n",
    "        _, lb_ = sess.run([gp_train_op, lb], {model.x: X, model.y: y, model.batch: y.shape[0]})\n",
    "        if i % 50 == 0: \n",
    "            print ('Epoch: [{}], The {}-th Cluster: [{}], Lower Bound: [{}]'.format(\n",
    "                    epoch, i, cluster, lb_))\n",
    "            X_test, y_test = dtest[:, :-2], dtest[:, -2:-1]\n",
    "            f_test, _ = sess.run([fmu, fcov], {model.x: X_test})\n",
    "            rmse = np.sqrt(np.mean(y_std**2 * ((y_test - f_test))**2))\n",
    "            print ('Epoch {} test RMSE: {}'.format(epoch, rmse))"
   ]
  },
  {
   "cell_type": "markdown",
   "metadata": {},
   "source": [
    "## SVGP"
   ]
  },
  {
   "cell_type": "code",
   "execution_count": 65,
   "metadata": {
    "ExecuteTime": {
     "end_time": "2018-11-06T15:21:24.670088Z",
     "start_time": "2018-11-06T15:21:24.643268Z"
    }
   },
   "outputs": [],
   "source": [
    "import gpflow\n",
    "from gpflow.models import SVGP\n",
    "from gpflow.likelihoods import Gaussian\n",
    "from gpflow.kernels import RBF\n",
    "from gpflow.training import AdamOptimizer"
   ]
  },
  {
   "cell_type": "code",
   "execution_count": 66,
   "metadata": {
    "ExecuteTime": {
     "end_time": "2018-11-06T15:21:26.460123Z",
     "start_time": "2018-11-06T15:21:26.147108Z"
    }
   },
   "outputs": [],
   "source": [
    "likelihood = Gaussian(variance=1.)\n",
    "kern = RBF(8, variance=1., lengthscales=1., ARD=False)"
   ]
  },
  {
   "cell_type": "code",
   "execution_count": 15,
   "metadata": {
    "ExecuteTime": {
     "end_time": "2018-11-06T14:56:50.444486Z",
     "start_time": "2018-11-06T14:56:50.401207Z"
    }
   },
   "outputs": [],
   "source": [
    "X_train, y_train = dtrain[:, :-2], dtrain[:, -2:-1]\n",
    "X_test, y_test = dtest[:, :-2], dtest[:, -2:-1]"
   ]
  },
  {
   "cell_type": "code",
   "execution_count": 67,
   "metadata": {
    "ExecuteTime": {
     "end_time": "2018-11-06T15:21:28.809646Z",
     "start_time": "2018-11-06T15:21:28.739434Z"
    }
   },
   "outputs": [],
   "source": [
    "np.random.seed(2018)\n",
    "qmu = np.random.randn(10, 1)"
   ]
  },
  {
   "cell_type": "code",
   "execution_count": 68,
   "metadata": {
    "ExecuteTime": {
     "end_time": "2018-11-06T15:21:30.420769Z",
     "start_time": "2018-11-06T15:21:30.389928Z"
    }
   },
   "outputs": [
    {
     "data": {
      "text/plain": [
       "array([[-0.2767675961],\n",
       "       [ 0.5818510021],\n",
       "       [ 2.1483992639],\n",
       "       [-1.2794870043],\n",
       "       [ 0.5022768893],\n",
       "       [ 0.8560292956],\n",
       "       [-0.1427900754],\n",
       "       [ 0.1100786657],\n",
       "       [-0.6880647914],\n",
       "       [ 0.4335640815]])"
      ]
     },
     "execution_count": 68,
     "metadata": {},
     "output_type": "execute_result"
    }
   ],
   "source": [
    "qmu"
   ]
  },
  {
   "cell_type": "code",
   "execution_count": 69,
   "metadata": {
    "ExecuteTime": {
     "end_time": "2018-11-06T15:21:38.899244Z",
     "start_time": "2018-11-06T15:21:38.109578Z"
    }
   },
   "outputs": [],
   "source": [
    "svgp = SVGP(X_train, y_train, kern, likelihood, z, minibatch_size=8192, q_diag=True, q_mu=qmu)"
   ]
  },
  {
   "cell_type": "code",
   "execution_count": 11,
   "metadata": {
    "ExecuteTime": {
     "end_time": "2018-11-06T14:02:53.560342Z",
     "start_time": "2018-11-06T14:01:29.824490Z"
    }
   },
   "outputs": [],
   "source": [
    "AdamOptimizer(0.01).minimize(svgp, maxiter=1000)"
   ]
  },
  {
   "cell_type": "code",
   "execution_count": 70,
   "metadata": {
    "ExecuteTime": {
     "end_time": "2018-11-06T15:21:40.893767Z",
     "start_time": "2018-11-06T15:21:40.562110Z"
    }
   },
   "outputs": [],
   "source": [
    "yhat_test = svgp.predict_f(X_test)[0]"
   ]
  },
  {
   "cell_type": "code",
   "execution_count": 71,
   "metadata": {
    "ExecuteTime": {
     "end_time": "2018-11-06T15:21:42.418714Z",
     "start_time": "2018-11-06T15:21:42.390689Z"
    }
   },
   "outputs": [
    {
     "data": {
      "text/plain": [
       "array([[ 0.0897302158],\n",
       "       [ 0.081387039 ],\n",
       "       [ 0.330917095 ],\n",
       "       [ 0.2572997896],\n",
       "       [ 0.1605330302],\n",
       "       [ 0.001612403 ],\n",
       "       [ 0.0596144607],\n",
       "       [ 0.4516659467],\n",
       "       [ 0.4055176299],\n",
       "       [ 0.1731506829],\n",
       "       [ 0.0811329071],\n",
       "       [ 0.3321195191],\n",
       "       [ 0.1118990634],\n",
       "       [ 0.0000131231],\n",
       "       [-0.0853056569],\n",
       "       [ 0.3605762148],\n",
       "       [ 0.0939531895],\n",
       "       [-0.1912884018],\n",
       "       [ 0.0760852202],\n",
       "       [-0.1543098545],\n",
       "       [ 0.1571784041],\n",
       "       [ 0.1745914154],\n",
       "       [ 0.6934498381],\n",
       "       [ 0.0004815934],\n",
       "       [ 0.1736083737],\n",
       "       ...,\n",
       "       [ 0.0010543019],\n",
       "       [ 0.0940117061],\n",
       "       [ 0.1595718929],\n",
       "       [ 0.2563705273],\n",
       "       [ 0.2145273548],\n",
       "       [ 0.2022233907],\n",
       "       [ 0.0256646672],\n",
       "       [ 0.1535012241],\n",
       "       [-0.006154821 ],\n",
       "       [ 0.0013893322],\n",
       "       [ 0.2262956601],\n",
       "       [-0.0615523497],\n",
       "       [ 0.086335426 ],\n",
       "       [ 0.3464757302],\n",
       "       [ 0.1759723291],\n",
       "       [-0.0546929121],\n",
       "       [-0.0339203419],\n",
       "       [ 0.1356089335],\n",
       "       [ 0.1856805113],\n",
       "       [-0.0003397971],\n",
       "       [ 0.038415446 ],\n",
       "       [-0.0567036609],\n",
       "       [ 0.0991844762],\n",
       "       [ 0.2697463082],\n",
       "       [ 0.11787853  ]])"
      ]
     },
     "execution_count": 71,
     "metadata": {},
     "output_type": "execute_result"
    }
   ],
   "source": [
    "yhat_test"
   ]
  },
  {
   "cell_type": "code",
   "execution_count": 72,
   "metadata": {
    "ExecuteTime": {
     "end_time": "2018-11-06T15:22:07.513562Z",
     "start_time": "2018-11-06T15:22:07.433703Z"
    },
    "scrolled": true
   },
   "outputs": [
    {
     "data": {
      "text/plain": [
       "43.326739169111775"
      ]
     },
     "execution_count": 72,
     "metadata": {},
     "output_type": "execute_result"
    }
   ],
   "source": [
    "np.sqrt(np.mean(y_std**2 * ((y_test - yhat_test))**2))"
   ]
  },
  {
   "cell_type": "code",
   "execution_count": 73,
   "metadata": {
    "ExecuteTime": {
     "end_time": "2018-11-06T15:22:17.352130Z",
     "start_time": "2018-11-06T15:22:17.146521Z"
    }
   },
   "outputs": [
    {
     "data": {
      "text/html": [
       "<div>\n",
       "<style scoped>\n",
       "    .dataframe tbody tr th:only-of-type {\n",
       "        vertical-align: middle;\n",
       "    }\n",
       "\n",
       "    .dataframe tbody tr th {\n",
       "        vertical-align: top;\n",
       "    }\n",
       "\n",
       "    .dataframe thead th {\n",
       "        text-align: right;\n",
       "    }\n",
       "</style>\n",
       "<table border=\"1\" class=\"dataframe\">\n",
       "  <thead>\n",
       "    <tr style=\"text-align: right;\">\n",
       "      <th></th>\n",
       "      <th>class</th>\n",
       "      <th>prior</th>\n",
       "      <th>transform</th>\n",
       "      <th>trainable</th>\n",
       "      <th>shape</th>\n",
       "      <th>fixed_shape</th>\n",
       "      <th>value</th>\n",
       "    </tr>\n",
       "  </thead>\n",
       "  <tbody>\n",
       "    <tr>\n",
       "      <th>SVGP/feature/Z</th>\n",
       "      <td>Parameter</td>\n",
       "      <td>None</td>\n",
       "      <td>(none)</td>\n",
       "      <td>True</td>\n",
       "      <td>(10, 8)</td>\n",
       "      <td>True</td>\n",
       "      <td>[[-0.018362305268530544, 0.00398632724491354, ...</td>\n",
       "    </tr>\n",
       "    <tr>\n",
       "      <th>SVGP/likelihood/variance</th>\n",
       "      <td>Parameter</td>\n",
       "      <td>None</td>\n",
       "      <td>+ve</td>\n",
       "      <td>True</td>\n",
       "      <td>()</td>\n",
       "      <td>True</td>\n",
       "      <td>1.0</td>\n",
       "    </tr>\n",
       "    <tr>\n",
       "      <th>SVGP/kern/lengthscales</th>\n",
       "      <td>Parameter</td>\n",
       "      <td>None</td>\n",
       "      <td>+ve</td>\n",
       "      <td>True</td>\n",
       "      <td>()</td>\n",
       "      <td>True</td>\n",
       "      <td>1.0</td>\n",
       "    </tr>\n",
       "    <tr>\n",
       "      <th>SVGP/kern/variance</th>\n",
       "      <td>Parameter</td>\n",
       "      <td>None</td>\n",
       "      <td>+ve</td>\n",
       "      <td>True</td>\n",
       "      <td>()</td>\n",
       "      <td>True</td>\n",
       "      <td>1.0</td>\n",
       "    </tr>\n",
       "    <tr>\n",
       "      <th>SVGP/q_mu</th>\n",
       "      <td>Parameter</td>\n",
       "      <td>None</td>\n",
       "      <td>(none)</td>\n",
       "      <td>True</td>\n",
       "      <td>(10, 1)</td>\n",
       "      <td>True</td>\n",
       "      <td>[[-0.276767596147759], [0.5818510020662242], [...</td>\n",
       "    </tr>\n",
       "    <tr>\n",
       "      <th>SVGP/q_sqrt</th>\n",
       "      <td>Parameter</td>\n",
       "      <td>None</td>\n",
       "      <td>+ve</td>\n",
       "      <td>True</td>\n",
       "      <td>(10, 1)</td>\n",
       "      <td>True</td>\n",
       "      <td>[[1.0], [1.0], [1.0], [1.0], [1.0], [1.0], [1....</td>\n",
       "    </tr>\n",
       "  </tbody>\n",
       "</table>\n",
       "</div>"
      ],
      "text/plain": [
       "                              class prior transform  trainable    shape  \\\n",
       "SVGP/feature/Z            Parameter  None    (none)       True  (10, 8)   \n",
       "SVGP/likelihood/variance  Parameter  None       +ve       True       ()   \n",
       "SVGP/kern/lengthscales    Parameter  None       +ve       True       ()   \n",
       "SVGP/kern/variance        Parameter  None       +ve       True       ()   \n",
       "SVGP/q_mu                 Parameter  None    (none)       True  (10, 1)   \n",
       "SVGP/q_sqrt               Parameter  None       +ve       True  (10, 1)   \n",
       "\n",
       "                          fixed_shape  \\\n",
       "SVGP/feature/Z                   True   \n",
       "SVGP/likelihood/variance         True   \n",
       "SVGP/kern/lengthscales           True   \n",
       "SVGP/kern/variance               True   \n",
       "SVGP/q_mu                        True   \n",
       "SVGP/q_sqrt                      True   \n",
       "\n",
       "                                                                      value  \n",
       "SVGP/feature/Z            [[-0.018362305268530544, 0.00398632724491354, ...  \n",
       "SVGP/likelihood/variance                                                1.0  \n",
       "SVGP/kern/lengthscales                                                  1.0  \n",
       "SVGP/kern/variance                                                      1.0  \n",
       "SVGP/q_mu                 [[-0.276767596147759], [0.5818510020662242], [...  \n",
       "SVGP/q_sqrt               [[1.0], [1.0], [1.0], [1.0], [1.0], [1.0], [1....  "
      ]
     },
     "execution_count": 73,
     "metadata": {},
     "output_type": "execute_result"
    }
   ],
   "source": [
    "svgp.as_pandas_table()"
   ]
  },
  {
   "cell_type": "code",
   "execution_count": 23,
   "metadata": {
    "ExecuteTime": {
     "end_time": "2018-11-06T14:24:37.795949Z",
     "start_time": "2018-11-06T14:24:37.696921Z"
    }
   },
   "outputs": [],
   "source": [
    "z_opt = svgp.feature.Z.value\n",
    "log_sf2_opt = np.log(svgp.kern.variance.value)\n",
    "log_theta_opt = np.log(svgp.kern.lengthscales.value)\n",
    "log_beta_opt = np.log(1. / svgp.likelihood.variance.value)\n",
    "qmu_opt = svgp.q_mu.value\n",
    "qlogdev_opt = np.log(svgp.q_sqrt.value[:, 0])"
   ]
  },
  {
   "cell_type": "code",
   "execution_count": 22,
   "metadata": {
    "ExecuteTime": {
     "end_time": "2018-11-06T11:07:38.061784Z",
     "start_time": "2018-11-06T11:07:35.212992Z"
    },
    "collapsed": true
   },
   "outputs": [
    {
     "data": {
      "text/plain": [
       "<matplotlib.axes._subplots.AxesSubplot at 0x7f8b342ce4e0>"
      ]
     },
     "execution_count": 22,
     "metadata": {},
     "output_type": "execute_result"
    },
    {
     "data": {
      "image/png": "[encoded data removed]",
      "text/plain": [
       "<Figure size 1080x1080 with 2 Axes>"
      ]
     },
     "metadata": {
      "needs_background": "light"
     },
     "output_type": "display_data"
    }
   ],
   "source": [
    "plt.rcParams['figure.figsize'] = (15.0, 15.0) #set default size of plots\n",
    "sns.heatmap(q_cov, cmap='Blues', annot=True, fmt='.1g')"
   ]
  }
 ],
 "metadata": {
  "kernelspec": {
   "display_name": "Python 3.5",
   "language": "python",
   "name": "python3.5"
  },
  "language_info": {
   "codemirror_mode": {
    "name": "ipython",
    "version": 3
   },
   "file_extension": ".py",
   "mimetype": "text/x-python",
   "name": "python",
   "nbconvert_exporter": "python",
   "pygments_lexer": "ipython3",
   "version": "3.5.6"
  },
  "latex_envs": {
   "LaTeX_envs_menu_present": true,
   "autoclose": false,
   "autocomplete": true,
   "bibliofile": "biblio.bib",
   "cite_by": "apalike",
   "current_citInitial": 1,
   "eqLabelWithNumbers": true,
   "eqNumInitial": 1,
   "hotkeys": {
    "equation": "Ctrl-E",
    "itemize": "Ctrl-I"
   },
   "labels_anchors": false,
   "latex_user_defs": false,
   "report_style_numbering": false,
   "user_envs_cfg": false
  },
  "toc": {
   "base_numbering": 1,
   "nav_menu": {},
   "number_sections": true,
   "sideBar": true,
   "skip_h1_title": false,
   "title_cell": "Table of Contents",
   "title_sidebar": "Contents",
   "toc_cell": false,
   "toc_position": {
    "height": "calc(100% - 180px)",
    "left": "10px",
    "top": "150px",
    "width": "216px"
   },
   "toc_section_display": true,
   "toc_window_display": true
  },
  "varInspector": {
   "cols": {
    "lenName": 16,
    "lenType": 16,
    "lenVar": 40
   },
   "kernels_config": {
    "python": {
     "delete_cmd_postfix": "",
     "delete_cmd_prefix": "del ",
     "library": "var_list.py",
     "varRefreshCmd": "print(var_dic_list())"
    },
    "r": {
     "delete_cmd_postfix": ") ",
     "delete_cmd_prefix": "rm(",
     "library": "var_list.r",
     "varRefreshCmd": "cat(var_dic_list()) "
    }
   },
   "oldHeight": 933,
   "position": {
    "height": "955px",
    "left": "714px",
    "right": "20px",
    "top": "3px",
    "width": "563px"
   },
   "types_to_exclude": [
    "module",
    "function",
    "builtin_function_or_method",
    "instance",
    "_Feature"
   ],
   "varInspector_section_display": "block",
   "window_display": false
  }
 },
 "nbformat": 4,
 "nbformat_minor": 2
}
