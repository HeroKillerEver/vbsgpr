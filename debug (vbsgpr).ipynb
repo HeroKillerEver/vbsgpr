{
 "cells": [
  {
   "cell_type": "markdown",
   "metadata": {},
   "source": [
    "## Packages"
   ]
  },
  {
   "cell_type": "code",
   "execution_count": 1,
   "metadata": {
    "ExecuteTime": {
     "end_time": "2018-11-12T06:24:00.336535Z",
     "start_time": "2018-11-12T06:23:56.930827Z"
    }
   },
   "outputs": [],
   "source": [
    "import numpy as np\n",
    "np.set_printoptions(precision=4, suppress=True, linewidth=200)\n",
    "np.random.seed(2018)\n",
    "import pandas as pd\n",
    "import tensorflow as tf\n",
    "import sklearn\n",
    "import matplotlib.pyplot as plt\n",
    "import seaborn as sns\n",
    "%matplotlib inline\n",
    "plt.rcParams['figure.figsize'] = (10.0, 6.0) #set default size of plots\n",
    "plt.rcParams['image.interpolation'] = 'nearest'\n",
    "plt.rcParams['image.cmap'] = 'gray'\n",
    "sns.set(color_codes=True)\n",
    "np.set_printoptions(precision=10, suppress=True, linewidth=200, threshold=1000, edgeitems=25)\n",
    "%load_ext autoreload\n",
    "%autoreload 2\n",
    "\n",
    "import os\n",
    "os.environ[\"CUDA_DEVICE_ORDER\"]=\"PCI_BUS_ID\"\n",
    "# The GPU id to use, usually either \"0\" or \"1\", \"2' \"3\" \"4\"\n",
    "os.environ[\"CUDA_VISIBLE_DEVICES\"]= ''\n",
    "config = tf.ConfigProto()\n",
    "config.gpu_options.allow_growth = True\n",
    "pd.set_option('display.float_format', lambda x: '{:.2f}'.format(x))\n",
    "\n",
    "import warnings\n",
    "warnings.filterwarnings(\"ignore\")"
   ]
  },
  {
   "cell_type": "code",
   "execution_count": 2,
   "metadata": {
    "ExecuteTime": {
     "end_time": "2018-11-12T06:24:02.150273Z",
     "start_time": "2018-11-12T06:24:01.967776Z"
    }
   },
   "outputs": [],
   "source": [
    "from sklearn.metrics import accuracy_score, precision_score, recall_score\n",
    "from sklearn.model_selection import train_test_split\n",
    "from sklearn.metrics import confusion_matrix, precision_recall_curve\n",
    "from sklearn.metrics import roc_auc_score, roc_curve\n",
    "from sklearn.utils import shuffle\n",
    "from sklearn.model_selection import StratifiedShuffleSplit\n",
    "\n",
    "from sklearn.preprocessing import RobustScaler, StandardScaler\n",
    "from sklearn.preprocessing import Normalizer, MinMaxScaler\n",
    "\n",
    "from scipy.cluster.vq import kmeans2 as kmeans"
   ]
  },
  {
   "cell_type": "code",
   "execution_count": 3,
   "metadata": {
    "ExecuteTime": {
     "end_time": "2018-11-12T06:24:04.452283Z",
     "start_time": "2018-11-12T06:24:04.358026Z"
    }
   },
   "outputs": [],
   "source": [
    "import pickle"
   ]
  },
  {
   "cell_type": "markdown",
   "metadata": {
    "heading_collapsed": true
   },
   "source": [
    "## Check Data (pandas)"
   ]
  },
  {
   "cell_type": "code",
   "execution_count": null,
   "metadata": {
    "ExecuteTime": {
     "end_time": "2018-11-03T13:46:21.756429Z",
     "start_time": "2018-11-03T13:46:19.321564Z"
    },
    "hidden": true
   },
   "outputs": [],
   "source": [
    "df_airline = pd.read_csv('./data/airplane.csv', header=None)\n",
    "cols = ['a', 'b', 'c', 'd', 'e', 'f', 'g', 'h', 'i']"
   ]
  },
  {
   "cell_type": "code",
   "execution_count": null,
   "metadata": {
    "ExecuteTime": {
     "end_time": "2018-11-03T13:46:27.003499Z",
     "start_time": "2018-11-03T13:46:26.941820Z"
    },
    "hidden": true,
    "scrolled": true
   },
   "outputs": [],
   "source": [
    "df_airline = df_airline.values\n",
    "df_airline = pd.DataFrame(df_airline, columns=cols)"
   ]
  },
  {
   "cell_type": "code",
   "execution_count": null,
   "metadata": {
    "ExecuteTime": {
     "end_time": "2018-11-03T13:46:33.333068Z",
     "start_time": "2018-11-03T13:46:31.211581Z"
    },
    "hidden": true,
    "scrolled": true
   },
   "outputs": [],
   "source": [
    "df_airline.describe()"
   ]
  },
  {
   "cell_type": "code",
   "execution_count": null,
   "metadata": {
    "ExecuteTime": {
     "end_time": "2018-11-02T16:58:45.993093Z",
     "start_time": "2018-11-02T16:57:04.673073Z"
    },
    "hidden": true
   },
   "outputs": [],
   "source": [
    "_, clusters = kmeans(df_airline.values.astype('float32'), 1000, minit='points')"
   ]
  },
  {
   "cell_type": "code",
   "execution_count": null,
   "metadata": {
    "ExecuteTime": {
     "end_time": "2018-11-03T13:46:37.720830Z",
     "start_time": "2018-11-03T13:46:37.656575Z"
    },
    "hidden": true
   },
   "outputs": [],
   "source": [
    "df_airline['cluster'] = pd.Series(clusters, index=df_airline.index)"
   ]
  },
  {
   "cell_type": "code",
   "execution_count": null,
   "metadata": {
    "ExecuteTime": {
     "end_time": "2018-11-03T13:48:05.967966Z",
     "start_time": "2018-11-03T13:48:05.017768Z"
    },
    "hidden": true
   },
   "outputs": [],
   "source": [
    "X = df_airline.iloc[:, :-2]\n",
    "y = df_airline.iloc[:, -2:]\n",
    "X_train, X_test, y_train, y_test = train_test_split(X, y, test_size=0.01, random_state=2018)"
   ]
  },
  {
   "cell_type": "code",
   "execution_count": null,
   "metadata": {
    "ExecuteTime": {
     "end_time": "2018-11-03T13:54:13.470022Z",
     "start_time": "2018-11-03T13:54:12.699858Z"
    },
    "hidden": true
   },
   "outputs": [],
   "source": [
    "df_airline_train, df_airline_test = train_test_split(df_airline, test_size=0.01, random_state=2018)"
   ]
  },
  {
   "cell_type": "code",
   "execution_count": null,
   "metadata": {
    "ExecuteTime": {
     "end_time": "2018-11-03T13:54:17.423551Z",
     "start_time": "2018-11-03T13:54:17.359833Z"
    },
    "hidden": true
   },
   "outputs": [],
   "source": [
    "df_airline_train.shape, df_airline_test.shape"
   ]
  },
  {
   "cell_type": "code",
   "execution_count": null,
   "metadata": {
    "ExecuteTime": {
     "end_time": "2018-11-03T15:40:23.069107Z",
     "start_time": "2018-11-03T15:40:23.043679Z"
    },
    "hidden": true
   },
   "outputs": [],
   "source": [
    "normalizer = StandardScaler()"
   ]
  },
  {
   "cell_type": "code",
   "execution_count": null,
   "metadata": {
    "ExecuteTime": {
     "end_time": "2018-11-03T15:40:24.447131Z",
     "start_time": "2018-11-03T15:40:23.840588Z"
    },
    "hidden": true
   },
   "outputs": [],
   "source": [
    "df_train_norm = normalizer.fit_transform(df_airline_train.values[:, :-1]) # no cluster\n",
    "df_test_norm = normalizer.fit_transform(df_airline_test.values[:, :-1])  # no cluster"
   ]
  },
  {
   "cell_type": "code",
   "execution_count": null,
   "metadata": {
    "ExecuteTime": {
     "end_time": "2018-11-03T15:40:28.023406Z",
     "start_time": "2018-11-03T15:40:27.830304Z"
    },
    "hidden": true
   },
   "outputs": [],
   "source": [
    "np.column_stack((df_train_norm, df_airline_train.cluster.values))"
   ]
  },
  {
   "cell_type": "code",
   "execution_count": null,
   "metadata": {
    "code_folding": [
     0
    ],
    "hidden": true
   },
   "outputs": [],
   "source": [
    "#\n",
    "normalizer_x = StandardScaler()\n",
    "normalizer_y = StandardScaler()\n",
    "\n",
    "X_train_norm = normalizer_x.fit_transform(X_train)\n",
    "y_train_norm = normalizer_y.fit_transform(y_train.values[:, None])\n",
    "\n",
    "X_test_norm = normalizer_x.fit_transform(X_test)\n",
    "y_test_norm = normalizer_y.fit_transform(y_test.values[:, None])"
   ]
  },
  {
   "cell_type": "markdown",
   "metadata": {},
   "source": [
    "## Load dataloader"
   ]
  },
  {
   "cell_type": "code",
   "execution_count": 7,
   "metadata": {
    "ExecuteTime": {
     "end_time": "2018-11-12T06:24:14.901421Z",
     "start_time": "2018-11-12T06:24:14.814787Z"
    }
   },
   "outputs": [],
   "source": [
    "import data_loader"
   ]
  },
  {
   "cell_type": "code",
   "execution_count": 8,
   "metadata": {
    "ExecuteTime": {
     "end_time": "2018-11-12T06:24:28.084070Z",
     "start_time": "2018-11-12T06:24:15.851155Z"
    },
    "scrolled": true
   },
   "outputs": [
    {
     "name": "stdout",
     "output_type": "stream",
     "text": [
      "loading data of 2055732 datapoints...\n",
      "Parition into 10 clusters...\n",
      "Done...!\n",
      "Selecting 10 inducing variables...\n",
      "Done...!\n"
     ]
    }
   ],
   "source": [
    "dtrain, dtest, z, y_std = data_loader.load('airplane.csv', \n",
    "                                           n_clusters=10, \n",
    "                                           n_induce=10)"
   ]
  },
  {
   "cell_type": "markdown",
   "metadata": {
    "heading_collapsed": true
   },
   "source": [
    "## VBSGPR"
   ]
  },
  {
   "cell_type": "code",
   "execution_count": null,
   "metadata": {
    "ExecuteTime": {
     "end_time": "2018-11-06T14:43:18.032168Z",
     "start_time": "2018-11-06T14:43:17.895246Z"
    },
    "hidden": true
   },
   "outputs": [],
   "source": [
    "tf.reset_default_graph()\n",
    "sess = tf.InteractiveSession()"
   ]
  },
  {
   "cell_type": "code",
   "execution_count": null,
   "metadata": {
    "ExecuteTime": {
     "end_time": "2018-11-06T14:43:20.803039Z",
     "start_time": "2018-11-06T14:43:20.729483Z"
    },
    "hidden": true
   },
   "outputs": [],
   "source": [
    "import tensorflow as tf\n",
    "import numpy as np\n",
    "import random\n",
    "from model import VBSGPR\n",
    "\n",
    "epochs = 10\n",
    "N, total_dim = dtrain.shape\n",
    "log_beta, log_sf2, log_theta = 0., 0., 0.\n",
    "clusters = [i for i in range(100)]"
   ]
  },
  {
   "cell_type": "code",
   "execution_count": null,
   "metadata": {
    "ExecuteTime": {
     "end_time": "2018-11-06T14:43:22.745451Z",
     "start_time": "2018-11-06T14:43:22.642791Z"
    },
    "hidden": true
   },
   "outputs": [],
   "source": [
    "model = VBSGPR(N, log_beta_opt, log_sf2_opt, log_theta_opt, z_opt,  qmu_opt, qlogdev_opt)"
   ]
  },
  {
   "cell_type": "code",
   "execution_count": null,
   "metadata": {
    "ExecuteTime": {
     "end_time": "2018-11-06T14:43:26.966035Z",
     "start_time": "2018-11-06T14:43:25.464912Z"
    },
    "hidden": true
   },
   "outputs": [],
   "source": [
    "lb = model.lower_bound()\n",
    "fmu, fcov = model.predict_f()\n",
    "gp_vars = tf.get_collection(tf.GraphKeys.TRAINABLE_VARIABLES, 'vbsgpr')\n",
    "gp_opt = tf.train.AdamOptimizer(0.01, name='gp_opt')\n",
    "gp_train_op = gp_opt.minimize(-lb, var_list=gp_vars)"
   ]
  },
  {
   "cell_type": "code",
   "execution_count": null,
   "metadata": {
    "ExecuteTime": {
     "end_time": "2018-11-06T14:43:31.562274Z",
     "start_time": "2018-11-06T14:43:30.026218Z"
    },
    "hidden": true
   },
   "outputs": [],
   "source": [
    "sess.run(tf.global_variables_initializer())\n",
    "f_test, _ = sess.run([fmu, fcov], {model.x: X_test})\n",
    "rmse = np.sqrt(np.mean(y_std**2 * ((y_test - f_test))**2))\n",
    "print ('test RMSE: {}'.format(rmse))"
   ]
  },
  {
   "cell_type": "code",
   "execution_count": null,
   "metadata": {
    "ExecuteTime": {
     "end_time": "2018-11-06T14:34:14.290161Z",
     "start_time": "2018-11-06T14:34:14.130732Z"
    },
    "hidden": true
   },
   "outputs": [],
   "source": [
    "model.qlogdev.eval()"
   ]
  },
  {
   "cell_type": "code",
   "execution_count": null,
   "metadata": {
    "ExecuteTime": {
     "end_time": "2018-11-06T13:43:07.105626Z",
     "start_time": "2018-11-06T13:39:17.198832Z"
    },
    "hidden": true,
    "scrolled": true
   },
   "outputs": [],
   "source": [
    "# with tf.Session() as sess:\n",
    "sess.run(tf.global_variables_initializer())\n",
    "for epoch in range(epochs):\n",
    "    random.shuffle(clusters)\n",
    "    for i, cluster in enumerate(clusters):\n",
    "        data_batch = dtrain[np.where(dtrain[:, -1] == cluster)]\n",
    "        X, y = data_batch[:, :-2], data_batch[:, -2:-1]\n",
    "        _, lb_ = sess.run([gp_train_op, lb], {model.x: X, model.y: y, model.batch: y.shape[0]})\n",
    "        if i % 50 == 0: \n",
    "            print ('Epoch: [{}], The {}-th Cluster: [{}], Lower Bound: [{}]'.format(\n",
    "                    epoch, i, cluster, lb_))\n",
    "            X_test, y_test = dtest[:, :-2], dtest[:, -2:-1]\n",
    "            f_test, _ = sess.run([fmu, fcov], {model.x: X_test})\n",
    "            rmse = np.sqrt(np.mean(y_std**2 * ((y_test - f_test))**2))\n",
    "            print ('Epoch {} test RMSE: {}'.format(epoch, rmse))"
   ]
  },
  {
   "cell_type": "markdown",
   "metadata": {},
   "source": [
    "## SVGP"
   ]
  },
  {
   "cell_type": "code",
   "execution_count": 24,
   "metadata": {
    "ExecuteTime": {
     "end_time": "2018-11-12T07:54:39.583771Z",
     "start_time": "2018-11-12T07:54:39.515330Z"
    }
   },
   "outputs": [],
   "source": [
    "import gpflow\n",
    "from gpflow.models import SVGP\n",
    "from gpflow.likelihoods import Gaussian\n",
    "from gpflow.kernels import RBF\n",
    "from gpflow.training import AdamOptimizer"
   ]
  },
  {
   "cell_type": "code",
   "execution_count": 25,
   "metadata": {
    "ExecuteTime": {
     "end_time": "2018-11-12T07:54:40.868953Z",
     "start_time": "2018-11-12T07:54:40.697577Z"
    }
   },
   "outputs": [],
   "source": [
    "likelihood = Gaussian(variance=0.5)\n",
    "kern = RBF(8, variance=2., lengthscales=2., ARD=False)"
   ]
  },
  {
   "cell_type": "code",
   "execution_count": 26,
   "metadata": {
    "ExecuteTime": {
     "end_time": "2018-11-12T07:54:41.906030Z",
     "start_time": "2018-11-12T07:54:41.873162Z"
    }
   },
   "outputs": [],
   "source": [
    "X_train, y_train = dtrain[:, :-2], dtrain[:, -2:-1]\n",
    "X_test, y_test = dtest[:, :-2], dtest[:, -2:-1]"
   ]
  },
  {
   "cell_type": "code",
   "execution_count": 27,
   "metadata": {
    "ExecuteTime": {
     "end_time": "2018-11-12T07:54:43.507223Z",
     "start_time": "2018-11-12T07:54:43.479121Z"
    }
   },
   "outputs": [],
   "source": [
    "np.random.seed(2018)\n",
    "# qmu = np.random.randn(1, 1)\n",
    "qmu = np.random.randn(10, 1)"
   ]
  },
  {
   "cell_type": "code",
   "execution_count": 28,
   "metadata": {
    "ExecuteTime": {
     "end_time": "2018-11-12T07:54:44.929116Z",
     "start_time": "2018-11-12T07:54:44.381165Z"
    },
    "scrolled": false
   },
   "outputs": [],
   "source": [
    "svgp = SVGP(X_test, y_test, kern, \n",
    "            likelihood, z, minibatch_size=y_test.shape[0], \n",
    "            q_diag=True, q_mu=qmu, whiten=True)"
   ]
  },
  {
   "cell_type": "code",
   "execution_count": 29,
   "metadata": {
    "ExecuteTime": {
     "end_time": "2018-11-12T07:56:09.716808Z",
     "start_time": "2018-11-12T07:54:46.811441Z"
    },
    "code_folding": []
   },
   "outputs": [],
   "source": [
    "# optimize\n",
    "AdamOptimizer(0.01).minimize(svgp, maxiter=1000)"
   ]
  },
  {
   "cell_type": "code",
   "execution_count": 30,
   "metadata": {
    "ExecuteTime": {
     "end_time": "2018-11-12T07:56:15.167676Z",
     "start_time": "2018-11-12T07:56:14.950797Z"
    }
   },
   "outputs": [
    {
     "data": {
      "text/plain": [
       "-28920.051483041836"
      ]
     },
     "execution_count": 30,
     "metadata": {},
     "output_type": "execute_result"
    }
   ],
   "source": [
    "svgp.compute_log_likelihood()"
   ]
  },
  {
   "cell_type": "code",
   "execution_count": 31,
   "metadata": {
    "ExecuteTime": {
     "end_time": "2018-11-12T07:56:17.301653Z",
     "start_time": "2018-11-12T07:56:16.961963Z"
    },
    "scrolled": true
   },
   "outputs": [
    {
     "data": {
      "text/plain": [
       "40.05194496807794"
      ]
     },
     "execution_count": 31,
     "metadata": {},
     "output_type": "execute_result"
    }
   ],
   "source": [
    "yhat_test = svgp.predict_y(X_test)[0]\n",
    "np.sqrt(np.mean(y_std**2 * ((y_test - yhat_test))**2))"
   ]
  },
  {
   "cell_type": "code",
   "execution_count": 32,
   "metadata": {
    "ExecuteTime": {
     "end_time": "2018-11-12T07:56:21.738149Z",
     "start_time": "2018-11-12T07:56:21.681857Z"
    }
   },
   "outputs": [],
   "source": [
    "z_opt = svgp.feature.Z.value\n",
    "log_sf2_opt = np.log(svgp.kern.variance.value)\n",
    "log_theta_opt = np.log(svgp.kern.lengthscales.value)\n",
    "log_beta_opt = np.log(1. / svgp.likelihood.variance.value)\n",
    "qmu_opt = svgp.q_mu.value\n",
    "qlogdev_opt = np.log(svgp.q_sqrt.value[:, 0])"
   ]
  },
  {
   "cell_type": "code",
   "execution_count": 33,
   "metadata": {
    "ExecuteTime": {
     "end_time": "2018-11-12T07:56:23.079893Z",
     "start_time": "2018-11-12T07:56:23.048491Z"
    }
   },
   "outputs": [],
   "source": [
    "dic = dict(z_opt=z_opt, log_beta_opt=log_beta_opt, \n",
    "           log_sf2_opt=log_sf2_opt, log_theta_opt=log_theta_opt,\n",
    "           qmu_opt=qmu_opt, qlogdev_opt=qlogdev_opt)"
   ]
  },
  {
   "cell_type": "code",
   "execution_count": 34,
   "metadata": {
    "ExecuteTime": {
     "end_time": "2018-11-12T07:56:24.198043Z",
     "start_time": "2018-11-12T07:56:24.154643Z"
    }
   },
   "outputs": [],
   "source": [
    "with open('svgp.pkl', 'wb') as f:\n",
    "    pickle.dump(dic, f)"
   ]
  },
  {
   "cell_type": "code",
   "execution_count": 35,
   "metadata": {
    "ExecuteTime": {
     "end_time": "2018-11-12T07:56:25.242072Z",
     "start_time": "2018-11-12T07:56:25.171127Z"
    }
   },
   "outputs": [
    {
     "data": {
      "text/html": [
       "<div>\n",
       "<style scoped>\n",
       "    .dataframe tbody tr th:only-of-type {\n",
       "        vertical-align: middle;\n",
       "    }\n",
       "\n",
       "    .dataframe tbody tr th {\n",
       "        vertical-align: top;\n",
       "    }\n",
       "\n",
       "    .dataframe thead th {\n",
       "        text-align: right;\n",
       "    }\n",
       "</style>\n",
       "<table border=\"1\" class=\"dataframe\">\n",
       "  <thead>\n",
       "    <tr style=\"text-align: right;\">\n",
       "      <th></th>\n",
       "      <th>class</th>\n",
       "      <th>prior</th>\n",
       "      <th>transform</th>\n",
       "      <th>trainable</th>\n",
       "      <th>shape</th>\n",
       "      <th>fixed_shape</th>\n",
       "      <th>value</th>\n",
       "    </tr>\n",
       "  </thead>\n",
       "  <tbody>\n",
       "    <tr>\n",
       "      <th>SVGP/likelihood/variance</th>\n",
       "      <td>Parameter</td>\n",
       "      <td>None</td>\n",
       "      <td>+ve</td>\n",
       "      <td>True</td>\n",
       "      <td>()</td>\n",
       "      <td>True</td>\n",
       "      <td>0.9916825474228069</td>\n",
       "    </tr>\n",
       "    <tr>\n",
       "      <th>SVGP/kern/variance</th>\n",
       "      <td>Parameter</td>\n",
       "      <td>None</td>\n",
       "      <td>+ve</td>\n",
       "      <td>True</td>\n",
       "      <td>()</td>\n",
       "      <td>True</td>\n",
       "      <td>0.5779710842721315</td>\n",
       "    </tr>\n",
       "    <tr>\n",
       "      <th>SVGP/kern/lengthscales</th>\n",
       "      <td>Parameter</td>\n",
       "      <td>None</td>\n",
       "      <td>+ve</td>\n",
       "      <td>True</td>\n",
       "      <td>()</td>\n",
       "      <td>True</td>\n",
       "      <td>4.771515422576705</td>\n",
       "    </tr>\n",
       "    <tr>\n",
       "      <th>SVGP/q_mu</th>\n",
       "      <td>Parameter</td>\n",
       "      <td>None</td>\n",
       "      <td>(none)</td>\n",
       "      <td>True</td>\n",
       "      <td>(10, 1)</td>\n",
       "      <td>True</td>\n",
       "      <td>[[-0.0659091363619212], [0.07995137005926004],...</td>\n",
       "    </tr>\n",
       "    <tr>\n",
       "      <th>SVGP/feature/Z</th>\n",
       "      <td>Parameter</td>\n",
       "      <td>None</td>\n",
       "      <td>(none)</td>\n",
       "      <td>True</td>\n",
       "      <td>(10, 8)</td>\n",
       "      <td>True</td>\n",
       "      <td>[[-0.015726817537224005, 0.06890777138039703, ...</td>\n",
       "    </tr>\n",
       "    <tr>\n",
       "      <th>SVGP/q_sqrt</th>\n",
       "      <td>Parameter</td>\n",
       "      <td>None</td>\n",
       "      <td>+ve</td>\n",
       "      <td>True</td>\n",
       "      <td>(10, 1)</td>\n",
       "      <td>True</td>\n",
       "      <td>[[0.05633904389218809], [0.2304703386384144], ...</td>\n",
       "    </tr>\n",
       "  </tbody>\n",
       "</table>\n",
       "</div>"
      ],
      "text/plain": [
       "                              class prior transform  trainable    shape  \\\n",
       "SVGP/likelihood/variance  Parameter  None       +ve       True       ()   \n",
       "SVGP/kern/variance        Parameter  None       +ve       True       ()   \n",
       "SVGP/kern/lengthscales    Parameter  None       +ve       True       ()   \n",
       "SVGP/q_mu                 Parameter  None    (none)       True  (10, 1)   \n",
       "SVGP/feature/Z            Parameter  None    (none)       True  (10, 8)   \n",
       "SVGP/q_sqrt               Parameter  None       +ve       True  (10, 1)   \n",
       "\n",
       "                          fixed_shape  \\\n",
       "SVGP/likelihood/variance         True   \n",
       "SVGP/kern/variance               True   \n",
       "SVGP/kern/lengthscales           True   \n",
       "SVGP/q_mu                        True   \n",
       "SVGP/feature/Z                   True   \n",
       "SVGP/q_sqrt                      True   \n",
       "\n",
       "                                                                      value  \n",
       "SVGP/likelihood/variance                                 0.9916825474228069  \n",
       "SVGP/kern/variance                                       0.5779710842721315  \n",
       "SVGP/kern/lengthscales                                    4.771515422576705  \n",
       "SVGP/q_mu                 [[-0.0659091363619212], [0.07995137005926004],...  \n",
       "SVGP/feature/Z            [[-0.015726817537224005, 0.06890777138039703, ...  \n",
       "SVGP/q_sqrt               [[0.05633904389218809], [0.2304703386384144], ...  "
      ]
     },
     "execution_count": 35,
     "metadata": {},
     "output_type": "execute_result"
    }
   ],
   "source": [
    "svgp.as_pandas_table()"
   ]
  },
  {
   "cell_type": "code",
   "execution_count": null,
   "metadata": {},
   "outputs": [],
   "source": [
    "AdamOptimizer()"
   ]
  }
 ],
 "metadata": {
  "kernelspec": {
   "display_name": "Python 3.5",
   "language": "python",
   "name": "python3.5"
  },
  "language_info": {
   "codemirror_mode": {
    "name": "ipython",
    "version": 3
   },
   "file_extension": ".py",
   "mimetype": "text/x-python",
   "name": "python",
   "nbconvert_exporter": "python",
   "pygments_lexer": "ipython3",
   "version": "3.5.6"
  },
  "latex_envs": {
   "LaTeX_envs_menu_present": true,
   "autoclose": false,
   "autocomplete": true,
   "bibliofile": "biblio.bib",
   "cite_by": "apalike",
   "current_citInitial": 1,
   "eqLabelWithNumbers": true,
   "eqNumInitial": 1,
   "hotkeys": {
    "equation": "Ctrl-E",
    "itemize": "Ctrl-I"
   },
   "labels_anchors": false,
   "latex_user_defs": false,
   "report_style_numbering": false,
   "user_envs_cfg": false
  },
  "toc": {
   "base_numbering": 1,
   "nav_menu": {},
   "number_sections": true,
   "sideBar": true,
   "skip_h1_title": false,
   "title_cell": "Table of Contents",
   "title_sidebar": "Contents",
   "toc_cell": false,
   "toc_position": {
    "height": "calc(100% - 180px)",
    "left": "10px",
    "top": "150px",
    "width": "194px"
   },
   "toc_section_display": true,
   "toc_window_display": true
  },
  "varInspector": {
   "cols": {
    "lenName": 16,
    "lenType": 16,
    "lenVar": 40
   },
   "kernels_config": {
    "python": {
     "delete_cmd_postfix": "",
     "delete_cmd_prefix": "del ",
     "library": "var_list.py",
     "varRefreshCmd": "print(var_dic_list())"
    },
    "r": {
     "delete_cmd_postfix": ") ",
     "delete_cmd_prefix": "rm(",
     "library": "var_list.r",
     "varRefreshCmd": "cat(var_dic_list()) "
    }
   },
   "oldHeight": 933,
   "position": {
    "height": "955px",
    "left": "714px",
    "right": "20px",
    "top": "3px",
    "width": "563px"
   },
   "types_to_exclude": [
    "module",
    "function",
    "builtin_function_or_method",
    "instance",
    "_Feature"
   ],
   "varInspector_section_display": "block",
   "window_display": false
  }
 },
 "nbformat": 4,
 "nbformat_minor": 2
}
